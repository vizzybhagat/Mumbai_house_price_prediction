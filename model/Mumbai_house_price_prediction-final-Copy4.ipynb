{
 "cells": [
  {
   "cell_type": "raw",
   "metadata": {},
   "source": [
    "Checked for outlier reduction and it works\n",
    "New prediction using outlier reduction or log transform on independent variables\n",
    "\n",
    "Change 1: change only to log transform --- failed for bhk feature\n",
    "Change 2: Used Min Max Scaler ---- failed because it scales values not transforms it into normal distribution\n",
    "\n",
    "Final conclusion: \n",
    "Since residual analysis is a normal distribution, we can use linear regression\n",
    "Final model uses Decision Tree Regressor"
   ]
  },
  {
   "cell_type": "code",
   "execution_count": 1,
   "metadata": {},
   "outputs": [],
   "source": [
    "import pandas as pd\n",
    "import numpy as np\n",
    "from matplotlib import pyplot as plt\n",
    "%matplotlib inline\n",
    "import matplotlib\n",
    "matplotlib.rcParams[\"figure.figsize\"]=(20,10)\n",
    "\n",
    "import warnings\n",
    "warnings.filterwarnings('ignore')"
   ]
  },
  {
   "cell_type": "code",
   "execution_count": 2,
   "metadata": {},
   "outputs": [
    {
     "data": {
      "text/html": [
       "<div>\n",
       "<style scoped>\n",
       "    .dataframe tbody tr th:only-of-type {\n",
       "        vertical-align: middle;\n",
       "    }\n",
       "\n",
       "    .dataframe tbody tr th {\n",
       "        vertical-align: top;\n",
       "    }\n",
       "\n",
       "    .dataframe thead th {\n",
       "        text-align: right;\n",
       "    }\n",
       "</style>\n",
       "<table border=\"1\" class=\"dataframe\">\n",
       "  <thead>\n",
       "    <tr style=\"text-align: right;\">\n",
       "      <th></th>\n",
       "      <th>bhk</th>\n",
       "      <th>type</th>\n",
       "      <th>locality</th>\n",
       "      <th>area</th>\n",
       "      <th>price</th>\n",
       "      <th>price_unit</th>\n",
       "      <th>region</th>\n",
       "      <th>status</th>\n",
       "      <th>age</th>\n",
       "    </tr>\n",
       "  </thead>\n",
       "  <tbody>\n",
       "    <tr>\n",
       "      <th>0</th>\n",
       "      <td>3</td>\n",
       "      <td>Apartment</td>\n",
       "      <td>Lak And Hanware The Residency Tower</td>\n",
       "      <td>685</td>\n",
       "      <td>2.50</td>\n",
       "      <td>Cr</td>\n",
       "      <td>Andheri West</td>\n",
       "      <td>Ready to move</td>\n",
       "      <td>New</td>\n",
       "    </tr>\n",
       "    <tr>\n",
       "      <th>1</th>\n",
       "      <td>2</td>\n",
       "      <td>Apartment</td>\n",
       "      <td>Radheya Sai Enclave Building No 2</td>\n",
       "      <td>640</td>\n",
       "      <td>52.51</td>\n",
       "      <td>L</td>\n",
       "      <td>Naigaon East</td>\n",
       "      <td>Under Construction</td>\n",
       "      <td>New</td>\n",
       "    </tr>\n",
       "    <tr>\n",
       "      <th>2</th>\n",
       "      <td>2</td>\n",
       "      <td>Apartment</td>\n",
       "      <td>Romell Serene</td>\n",
       "      <td>610</td>\n",
       "      <td>1.73</td>\n",
       "      <td>Cr</td>\n",
       "      <td>Borivali West</td>\n",
       "      <td>Under Construction</td>\n",
       "      <td>New</td>\n",
       "    </tr>\n",
       "    <tr>\n",
       "      <th>3</th>\n",
       "      <td>2</td>\n",
       "      <td>Apartment</td>\n",
       "      <td>Soundlines Codename Urban Rainforest</td>\n",
       "      <td>876</td>\n",
       "      <td>59.98</td>\n",
       "      <td>L</td>\n",
       "      <td>Panvel</td>\n",
       "      <td>Under Construction</td>\n",
       "      <td>New</td>\n",
       "    </tr>\n",
       "    <tr>\n",
       "      <th>4</th>\n",
       "      <td>2</td>\n",
       "      <td>Apartment</td>\n",
       "      <td>Origin Oriana</td>\n",
       "      <td>659</td>\n",
       "      <td>94.11</td>\n",
       "      <td>L</td>\n",
       "      <td>Mira Road East</td>\n",
       "      <td>Under Construction</td>\n",
       "      <td>New</td>\n",
       "    </tr>\n",
       "  </tbody>\n",
       "</table>\n",
       "</div>"
      ],
      "text/plain": [
       "   bhk       type                              locality  area  price  \\\n",
       "0    3  Apartment   Lak And Hanware The Residency Tower   685   2.50   \n",
       "1    2  Apartment     Radheya Sai Enclave Building No 2   640  52.51   \n",
       "2    2  Apartment                         Romell Serene   610   1.73   \n",
       "3    2  Apartment  Soundlines Codename Urban Rainforest   876  59.98   \n",
       "4    2  Apartment                         Origin Oriana   659  94.11   \n",
       "\n",
       "  price_unit          region              status  age  \n",
       "0         Cr    Andheri West       Ready to move  New  \n",
       "1          L    Naigaon East  Under Construction  New  \n",
       "2         Cr   Borivali West  Under Construction  New  \n",
       "3          L          Panvel  Under Construction  New  \n",
       "4          L  Mira Road East  Under Construction  New  "
      ]
     },
     "execution_count": 2,
     "metadata": {},
     "output_type": "execute_result"
    }
   ],
   "source": [
    "df1 = pd.read_csv(\"Mumbai_House_Prices.csv\")\n",
    "df1.head()"
   ]
  },
  {
   "cell_type": "code",
   "execution_count": 3,
   "metadata": {},
   "outputs": [
    {
     "data": {
      "text/plain": [
       "(76038, 9)"
      ]
     },
     "execution_count": 3,
     "metadata": {},
     "output_type": "execute_result"
    }
   ],
   "source": [
    "df1.shape"
   ]
  },
  {
   "cell_type": "code",
   "execution_count": 4,
   "metadata": {},
   "outputs": [
    {
     "data": {
      "text/plain": [
       "Index(['bhk', 'type', 'locality', 'area', 'price', 'price_unit', 'region',\n",
       "       'status', 'age'],\n",
       "      dtype='object')"
      ]
     },
     "execution_count": 4,
     "metadata": {},
     "output_type": "execute_result"
    }
   ],
   "source": [
    "df1.columns"
   ]
  },
  {
   "cell_type": "code",
   "execution_count": 5,
   "metadata": {},
   "outputs": [
    {
     "data": {
      "text/plain": [
       "type\n",
       "Apartment            74854\n",
       "Independent House       73\n",
       "Penthouse                3\n",
       "Studio Apartment       882\n",
       "Villa                  226\n",
       "Name: type, dtype: int64"
      ]
     },
     "execution_count": 5,
     "metadata": {},
     "output_type": "execute_result"
    }
   ],
   "source": [
    "df1.groupby('type')['type'].agg('count')"
   ]
  },
  {
   "cell_type": "code",
   "execution_count": 6,
   "metadata": {},
   "outputs": [
    {
     "data": {
      "text/plain": [
       "array(['Lak And Hanware The Residency Tower',\n",
       "       'Radheya Sai Enclave Building No 2', 'Romell Serene', ...,\n",
       "       'Ahuja Prasadam Phase III', 'HBS Marineview', 'Hubtown Serene'],\n",
       "      dtype=object)"
      ]
     },
     "execution_count": 6,
     "metadata": {},
     "output_type": "execute_result"
    }
   ],
   "source": [
    "df1.locality.unique()"
   ]
  },
  {
   "cell_type": "code",
   "execution_count": 7,
   "metadata": {},
   "outputs": [
    {
     "data": {
      "text/plain": [
       "array(['Andheri West', 'Naigaon East', 'Borivali West', 'Panvel',\n",
       "       'Mira Road East', 'Parel', 'Boisar', 'Santacruz East',\n",
       "       'Badlapur East', 'Fort', 'Badlapur West', 'Khopoli', 'Chembur',\n",
       "       'Jogeshwari West', 'Vasai', 'Kalamboli', 'Powai', 'Ghansoli',\n",
       "       'Thane West', 'Vikhroli', 'Bhiwandi', 'Airoli', 'Ambernath West',\n",
       "       'Borivali East', 'Virar', 'Kharghar', 'Ulwe', 'Kamothe',\n",
       "       'Jogeshwari East', 'Mulund West', 'Palghar', 'Goregaon West',\n",
       "       'Taloja', 'Rasayani', 'Ghatkopar East', 'Ulhasnagar', 'Dombivali',\n",
       "       'Kewale', 'Nala Sopara', 'Goregaon East', 'Kandivali East',\n",
       "       'Kurla', 'Andheri East', 'Dahisar', 'Karanjade', 'Mahim', 'Vashi',\n",
       "       'Malad West', 'Girgaon', 'Dadar West', 'Bandra West',\n",
       "       'Kandivali West', 'Kalyan West', 'Neral', 'Kalyan East', 'Karjat',\n",
       "       'Ghatkopar West', 'Dronagiri', 'Mulund East', 'Navade', 'Ambivali',\n",
       "       'Agripada', 'Owale', 'Ville Parle East', 'Kalwa', 'Khar',\n",
       "       'Santacruz West', 'Nerul', 'Kanjurmarg', 'Vangani',\n",
       "       'Bhayandar East', 'Seawoods', 'Sewri', 'Ambernath East',\n",
       "       'Nilje Gaon', 'Prabhadevi', 'Matunga', 'Lower Parel', 'Titwala',\n",
       "       'Shil Phata', 'Koper Khairane', 'Napeansea Road', 'Bhandup West',\n",
       "       'Koproli', 'Anjurdive', 'Wadala', 'Sion', 'Taloje', 'Cuffe Parade',\n",
       "       'Bhandup East', 'Byculla', 'Tardeo', 'Vasai West', 'Vasai east',\n",
       "       'Malad East', 'Colaba', 'Thane East', 'Nalasopara East', 'Deonar',\n",
       "       'Nahur East', 'Sanpada', 'Sector 21 Kamothe', 'Saphale', 'Kasheli',\n",
       "       'Juinagar', 'Worli', 'Panch Pakhdi', 'Mazagaon',\n",
       "       'Hiranandani Estates', 'Belapur', 'Vichumbe', 'Bandra East',\n",
       "       'Sector 17 Ulwe', 'Sector 23 Ulwe', 'Nalasopara West', 'Mahalaxmi',\n",
       "       'Sector 20 Kamothe', 'Dadar East', 'Sector 19 Kamothe', 'Shahapur',\n",
       "       'Sector 30 Kharghar', 'Asangaon', 'Vikroli East', 'Mira Road',\n",
       "       'Kanjurmarg East', 'Rambaug', 'Sector-12 Kamothe', 'Juhu',\n",
       "       'Ville Parle West', 'Mazgaon', 'Virar East', 'Khar West',\n",
       "       'Sector 8 New panvel', 'Rabale', 'Bhayandar West',\n",
       "       'Sector 20 Ulwe', 'Sector 22 Kamothe', 'Sector 21 Nerul',\n",
       "       'Bandra Kurla Complex', 'Sector 14 Vashi', 'Mumbai Central',\n",
       "       'Virar West', 'Sector 11 Koparkhairane', 'Unnat Nagar', 'Diva',\n",
       "       'Palava', 'Dombivali East', 'Sector-14 Koparkhairane',\n",
       "       'Greater Khanda', 'Sector-35D Kharghar', 'Umroli', 'Sector-9 Ulwe',\n",
       "       'Govandi', 'vile parle west', 'MATUNGA WEST', 'Sector-3 Ulwe',\n",
       "       'kasaradavali thane west', 'Kurla East', 'Pestom Sagar Colony',\n",
       "       'Sector 12 Kharghar', 'Police Colony', 'Dahisar West',\n",
       "       'Marine Lines', 'Sector 19 Kharghar', 'Kalher', 'Hindu Colony',\n",
       "       'Dahisar East', 'Sector 9 Vashi', 'Khardi', 'Babulnath Road',\n",
       "       'Sector 21 Kharghar', 'Dharavi', 'Vasind', 'Tilak Nagar',\n",
       "       'Ashok nagar', 'Antop Hill', 'Peddar Road', 'Kamathipura',\n",
       "       'Usarghar Gaon', 'Ambarnath', 'Patlipada', 'Vevoor', 'Shelu',\n",
       "       'Kurla West', 'Goregaon', 'Naupada', 'Bhoiwada',\n",
       "       'Sector 7 Kharghar', 'Roadpali', 'Sector-9 Kamothe', 'Borivali',\n",
       "       'Badlapur', 'Khanda Colony', 'Dombivli (West)', 'GTB Nagar',\n",
       "       'Bandra', 'kandivali', 'Mahavir Nagar', 'Churchgate', 'Pali Hill',\n",
       "       'Manpada', 'Sector-50 Seawoods', 'Uttan', 'Gauripada',\n",
       "       'Gandhar Nagar', 'Mahim West', 'Warai', 'mumbai', 'Khatiwali',\n",
       "       'Chandivali', 'Mumbra', 'Chembur East', 'Malabar Hill', 'sector',\n",
       "       'Uran', 'Manjarli', 'Ghodbunder Road', 'Mulund',\n",
       "       'Sector 18 Kharghar', 'Palidevad', 'Juhu Scheme', 'Adaigaon',\n",
       "       'Versova', 'Sector-4 New Panvel', 'Pen', 'Sector 6 Kamothe',\n",
       "       'Maneklal Estate', 'L I C Colony'], dtype=object)"
      ]
     },
     "execution_count": 7,
     "metadata": {},
     "output_type": "execute_result"
    }
   ],
   "source": [
    "df1.region.unique()"
   ]
  },
  {
   "cell_type": "code",
   "execution_count": 8,
   "metadata": {},
   "outputs": [
    {
     "data": {
      "text/html": [
       "<div>\n",
       "<style scoped>\n",
       "    .dataframe tbody tr th:only-of-type {\n",
       "        vertical-align: middle;\n",
       "    }\n",
       "\n",
       "    .dataframe tbody tr th {\n",
       "        vertical-align: top;\n",
       "    }\n",
       "\n",
       "    .dataframe thead th {\n",
       "        text-align: right;\n",
       "    }\n",
       "</style>\n",
       "<table border=\"1\" class=\"dataframe\">\n",
       "  <thead>\n",
       "    <tr style=\"text-align: right;\">\n",
       "      <th></th>\n",
       "      <th>bhk</th>\n",
       "      <th>type</th>\n",
       "      <th>area</th>\n",
       "      <th>price</th>\n",
       "      <th>price_unit</th>\n",
       "      <th>region</th>\n",
       "      <th>age</th>\n",
       "    </tr>\n",
       "  </thead>\n",
       "  <tbody>\n",
       "    <tr>\n",
       "      <th>0</th>\n",
       "      <td>3</td>\n",
       "      <td>Apartment</td>\n",
       "      <td>685</td>\n",
       "      <td>2.50</td>\n",
       "      <td>Cr</td>\n",
       "      <td>Andheri West</td>\n",
       "      <td>New</td>\n",
       "    </tr>\n",
       "    <tr>\n",
       "      <th>1</th>\n",
       "      <td>2</td>\n",
       "      <td>Apartment</td>\n",
       "      <td>640</td>\n",
       "      <td>52.51</td>\n",
       "      <td>L</td>\n",
       "      <td>Naigaon East</td>\n",
       "      <td>New</td>\n",
       "    </tr>\n",
       "    <tr>\n",
       "      <th>2</th>\n",
       "      <td>2</td>\n",
       "      <td>Apartment</td>\n",
       "      <td>610</td>\n",
       "      <td>1.73</td>\n",
       "      <td>Cr</td>\n",
       "      <td>Borivali West</td>\n",
       "      <td>New</td>\n",
       "    </tr>\n",
       "    <tr>\n",
       "      <th>3</th>\n",
       "      <td>2</td>\n",
       "      <td>Apartment</td>\n",
       "      <td>876</td>\n",
       "      <td>59.98</td>\n",
       "      <td>L</td>\n",
       "      <td>Panvel</td>\n",
       "      <td>New</td>\n",
       "    </tr>\n",
       "    <tr>\n",
       "      <th>4</th>\n",
       "      <td>2</td>\n",
       "      <td>Apartment</td>\n",
       "      <td>659</td>\n",
       "      <td>94.11</td>\n",
       "      <td>L</td>\n",
       "      <td>Mira Road East</td>\n",
       "      <td>New</td>\n",
       "    </tr>\n",
       "  </tbody>\n",
       "</table>\n",
       "</div>"
      ],
      "text/plain": [
       "   bhk       type  area  price price_unit          region  age\n",
       "0    3  Apartment   685   2.50         Cr    Andheri West  New\n",
       "1    2  Apartment   640  52.51          L    Naigaon East  New\n",
       "2    2  Apartment   610   1.73         Cr   Borivali West  New\n",
       "3    2  Apartment   876  59.98          L          Panvel  New\n",
       "4    2  Apartment   659  94.11          L  Mira Road East  New"
      ]
     },
     "execution_count": 8,
     "metadata": {},
     "output_type": "execute_result"
    }
   ],
   "source": [
    "df2 = df1.drop(['locality', 'status'], axis = 1)\n",
    "df2.head()"
   ]
  },
  {
   "cell_type": "code",
   "execution_count": 9,
   "metadata": {},
   "outputs": [
    {
     "data": {
      "text/plain": [
       "(76038, 7)"
      ]
     },
     "execution_count": 9,
     "metadata": {},
     "output_type": "execute_result"
    }
   ],
   "source": [
    "df2.shape"
   ]
  },
  {
   "cell_type": "markdown",
   "metadata": {},
   "source": [
    "# Data Cleaning process"
   ]
  },
  {
   "cell_type": "code",
   "execution_count": 10,
   "metadata": {},
   "outputs": [
    {
     "data": {
      "text/plain": [
       "bhk           0\n",
       "type          0\n",
       "area          0\n",
       "price         0\n",
       "price_unit    0\n",
       "region        0\n",
       "age           0\n",
       "dtype: int64"
      ]
     },
     "execution_count": 10,
     "metadata": {},
     "output_type": "execute_result"
    }
   ],
   "source": [
    "# Dropping null values if there are any\n",
    "df2.isnull().sum()"
   ]
  },
  {
   "cell_type": "code",
   "execution_count": 11,
   "metadata": {},
   "outputs": [
    {
     "data": {
      "text/plain": [
       "price_unit\n",
       "Cr    40981\n",
       "L     35057\n",
       "Name: price_unit, dtype: int64"
      ]
     },
     "execution_count": 11,
     "metadata": {},
     "output_type": "execute_result"
    }
   ],
   "source": [
    "#Checking unique columns for price_unit\n",
    "df2.groupby('price_unit')['price_unit'].agg('count')"
   ]
  },
  {
   "cell_type": "code",
   "execution_count": 12,
   "metadata": {},
   "outputs": [
    {
     "data": {
      "text/html": [
       "<div>\n",
       "<style scoped>\n",
       "    .dataframe tbody tr th:only-of-type {\n",
       "        vertical-align: middle;\n",
       "    }\n",
       "\n",
       "    .dataframe tbody tr th {\n",
       "        vertical-align: top;\n",
       "    }\n",
       "\n",
       "    .dataframe thead th {\n",
       "        text-align: right;\n",
       "    }\n",
       "</style>\n",
       "<table border=\"1\" class=\"dataframe\">\n",
       "  <thead>\n",
       "    <tr style=\"text-align: right;\">\n",
       "      <th></th>\n",
       "      <th>bhk</th>\n",
       "      <th>type</th>\n",
       "      <th>area</th>\n",
       "      <th>price</th>\n",
       "      <th>price_unit</th>\n",
       "      <th>region</th>\n",
       "      <th>age</th>\n",
       "      <th>price_lakhs</th>\n",
       "    </tr>\n",
       "  </thead>\n",
       "  <tbody>\n",
       "    <tr>\n",
       "      <th>0</th>\n",
       "      <td>3</td>\n",
       "      <td>Apartment</td>\n",
       "      <td>685</td>\n",
       "      <td>2.50</td>\n",
       "      <td>Cr</td>\n",
       "      <td>Andheri West</td>\n",
       "      <td>New</td>\n",
       "      <td>250.00</td>\n",
       "    </tr>\n",
       "    <tr>\n",
       "      <th>1</th>\n",
       "      <td>2</td>\n",
       "      <td>Apartment</td>\n",
       "      <td>640</td>\n",
       "      <td>52.51</td>\n",
       "      <td>L</td>\n",
       "      <td>Naigaon East</td>\n",
       "      <td>New</td>\n",
       "      <td>52.51</td>\n",
       "    </tr>\n",
       "    <tr>\n",
       "      <th>2</th>\n",
       "      <td>2</td>\n",
       "      <td>Apartment</td>\n",
       "      <td>610</td>\n",
       "      <td>1.73</td>\n",
       "      <td>Cr</td>\n",
       "      <td>Borivali West</td>\n",
       "      <td>New</td>\n",
       "      <td>173.00</td>\n",
       "    </tr>\n",
       "    <tr>\n",
       "      <th>3</th>\n",
       "      <td>2</td>\n",
       "      <td>Apartment</td>\n",
       "      <td>876</td>\n",
       "      <td>59.98</td>\n",
       "      <td>L</td>\n",
       "      <td>Panvel</td>\n",
       "      <td>New</td>\n",
       "      <td>59.98</td>\n",
       "    </tr>\n",
       "    <tr>\n",
       "      <th>4</th>\n",
       "      <td>2</td>\n",
       "      <td>Apartment</td>\n",
       "      <td>659</td>\n",
       "      <td>94.11</td>\n",
       "      <td>L</td>\n",
       "      <td>Mira Road East</td>\n",
       "      <td>New</td>\n",
       "      <td>94.11</td>\n",
       "    </tr>\n",
       "  </tbody>\n",
       "</table>\n",
       "</div>"
      ],
      "text/plain": [
       "   bhk       type  area  price price_unit          region  age  price_lakhs\n",
       "0    3  Apartment   685   2.50         Cr    Andheri West  New       250.00\n",
       "1    2  Apartment   640  52.51          L    Naigaon East  New        52.51\n",
       "2    2  Apartment   610   1.73         Cr   Borivali West  New       173.00\n",
       "3    2  Apartment   876  59.98          L          Panvel  New        59.98\n",
       "4    2  Apartment   659  94.11          L  Mira Road East  New        94.11"
      ]
     },
     "execution_count": 12,
     "metadata": {},
     "output_type": "execute_result"
    }
   ],
   "source": [
    "# Changing every price to lakhs\n",
    "df2['price_lakhs'] = np.where(df2['price_unit'] == 'Cr', df2['price'] * 100, df2['price'])\n",
    "df2.head()"
   ]
  },
  {
   "cell_type": "code",
   "execution_count": 13,
   "metadata": {},
   "outputs": [
    {
     "data": {
      "text/html": [
       "<div>\n",
       "<style scoped>\n",
       "    .dataframe tbody tr th:only-of-type {\n",
       "        vertical-align: middle;\n",
       "    }\n",
       "\n",
       "    .dataframe tbody tr th {\n",
       "        vertical-align: top;\n",
       "    }\n",
       "\n",
       "    .dataframe thead th {\n",
       "        text-align: right;\n",
       "    }\n",
       "</style>\n",
       "<table border=\"1\" class=\"dataframe\">\n",
       "  <thead>\n",
       "    <tr style=\"text-align: right;\">\n",
       "      <th></th>\n",
       "      <th>bhk</th>\n",
       "      <th>type</th>\n",
       "      <th>area</th>\n",
       "      <th>region</th>\n",
       "      <th>age</th>\n",
       "      <th>price_lakhs</th>\n",
       "    </tr>\n",
       "  </thead>\n",
       "  <tbody>\n",
       "    <tr>\n",
       "      <th>0</th>\n",
       "      <td>3</td>\n",
       "      <td>Apartment</td>\n",
       "      <td>685</td>\n",
       "      <td>Andheri West</td>\n",
       "      <td>New</td>\n",
       "      <td>250.00</td>\n",
       "    </tr>\n",
       "    <tr>\n",
       "      <th>1</th>\n",
       "      <td>2</td>\n",
       "      <td>Apartment</td>\n",
       "      <td>640</td>\n",
       "      <td>Naigaon East</td>\n",
       "      <td>New</td>\n",
       "      <td>52.51</td>\n",
       "    </tr>\n",
       "    <tr>\n",
       "      <th>2</th>\n",
       "      <td>2</td>\n",
       "      <td>Apartment</td>\n",
       "      <td>610</td>\n",
       "      <td>Borivali West</td>\n",
       "      <td>New</td>\n",
       "      <td>173.00</td>\n",
       "    </tr>\n",
       "    <tr>\n",
       "      <th>3</th>\n",
       "      <td>2</td>\n",
       "      <td>Apartment</td>\n",
       "      <td>876</td>\n",
       "      <td>Panvel</td>\n",
       "      <td>New</td>\n",
       "      <td>59.98</td>\n",
       "    </tr>\n",
       "    <tr>\n",
       "      <th>4</th>\n",
       "      <td>2</td>\n",
       "      <td>Apartment</td>\n",
       "      <td>659</td>\n",
       "      <td>Mira Road East</td>\n",
       "      <td>New</td>\n",
       "      <td>94.11</td>\n",
       "    </tr>\n",
       "  </tbody>\n",
       "</table>\n",
       "</div>"
      ],
      "text/plain": [
       "   bhk       type  area          region  age  price_lakhs\n",
       "0    3  Apartment   685    Andheri West  New       250.00\n",
       "1    2  Apartment   640    Naigaon East  New        52.51\n",
       "2    2  Apartment   610   Borivali West  New       173.00\n",
       "3    2  Apartment   876          Panvel  New        59.98\n",
       "4    2  Apartment   659  Mira Road East  New        94.11"
      ]
     },
     "execution_count": 13,
     "metadata": {},
     "output_type": "execute_result"
    }
   ],
   "source": [
    "#Dropping price_unit and price because it doesn't matter\n",
    "df3 = df2.drop(['price_unit','price'], axis = 'columns')\n",
    "df3.head()"
   ]
  },
  {
   "cell_type": "code",
   "execution_count": 14,
   "metadata": {},
   "outputs": [
    {
     "data": {
      "text/plain": [
       "array([ 3,  2,  5,  1,  4,  6,  9,  8, 10,  7], dtype=int64)"
      ]
     },
     "execution_count": 14,
     "metadata": {},
     "output_type": "execute_result"
    }
   ],
   "source": [
    "df3['bhk'].unique()"
   ]
  },
  {
   "cell_type": "code",
   "execution_count": 15,
   "metadata": {},
   "outputs": [
    {
     "data": {
      "text/plain": [
       "bhk              int64\n",
       "type            object\n",
       "area             int64\n",
       "region          object\n",
       "age             object\n",
       "price_lakhs    float64\n",
       "dtype: object"
      ]
     },
     "execution_count": 15,
     "metadata": {},
     "output_type": "execute_result"
    }
   ],
   "source": [
    "df3.dtypes"
   ]
  },
  {
   "cell_type": "code",
   "execution_count": 16,
   "metadata": {},
   "outputs": [
    {
     "data": {
      "text/html": [
       "<div>\n",
       "<style scoped>\n",
       "    .dataframe tbody tr th:only-of-type {\n",
       "        vertical-align: middle;\n",
       "    }\n",
       "\n",
       "    .dataframe tbody tr th {\n",
       "        vertical-align: top;\n",
       "    }\n",
       "\n",
       "    .dataframe thead th {\n",
       "        text-align: right;\n",
       "    }\n",
       "</style>\n",
       "<table border=\"1\" class=\"dataframe\">\n",
       "  <thead>\n",
       "    <tr style=\"text-align: right;\">\n",
       "      <th></th>\n",
       "      <th>bhk</th>\n",
       "      <th>type</th>\n",
       "      <th>area</th>\n",
       "      <th>region</th>\n",
       "      <th>age</th>\n",
       "      <th>price_lakhs</th>\n",
       "      <th>Price_per_sqft</th>\n",
       "    </tr>\n",
       "  </thead>\n",
       "  <tbody>\n",
       "    <tr>\n",
       "      <th>0</th>\n",
       "      <td>3</td>\n",
       "      <td>Apartment</td>\n",
       "      <td>685</td>\n",
       "      <td>Andheri West</td>\n",
       "      <td>New</td>\n",
       "      <td>250.00</td>\n",
       "      <td>36496.350365</td>\n",
       "    </tr>\n",
       "    <tr>\n",
       "      <th>1</th>\n",
       "      <td>2</td>\n",
       "      <td>Apartment</td>\n",
       "      <td>640</td>\n",
       "      <td>Naigaon East</td>\n",
       "      <td>New</td>\n",
       "      <td>52.51</td>\n",
       "      <td>8204.687500</td>\n",
       "    </tr>\n",
       "    <tr>\n",
       "      <th>2</th>\n",
       "      <td>2</td>\n",
       "      <td>Apartment</td>\n",
       "      <td>610</td>\n",
       "      <td>Borivali West</td>\n",
       "      <td>New</td>\n",
       "      <td>173.00</td>\n",
       "      <td>28360.655738</td>\n",
       "    </tr>\n",
       "    <tr>\n",
       "      <th>3</th>\n",
       "      <td>2</td>\n",
       "      <td>Apartment</td>\n",
       "      <td>876</td>\n",
       "      <td>Panvel</td>\n",
       "      <td>New</td>\n",
       "      <td>59.98</td>\n",
       "      <td>6847.031963</td>\n",
       "    </tr>\n",
       "    <tr>\n",
       "      <th>4</th>\n",
       "      <td>2</td>\n",
       "      <td>Apartment</td>\n",
       "      <td>659</td>\n",
       "      <td>Mira Road East</td>\n",
       "      <td>New</td>\n",
       "      <td>94.11</td>\n",
       "      <td>14280.728376</td>\n",
       "    </tr>\n",
       "  </tbody>\n",
       "</table>\n",
       "</div>"
      ],
      "text/plain": [
       "   bhk       type  area          region  age  price_lakhs  Price_per_sqft\n",
       "0    3  Apartment   685    Andheri West  New       250.00    36496.350365\n",
       "1    2  Apartment   640    Naigaon East  New        52.51     8204.687500\n",
       "2    2  Apartment   610   Borivali West  New       173.00    28360.655738\n",
       "3    2  Apartment   876          Panvel  New        59.98     6847.031963\n",
       "4    2  Apartment   659  Mira Road East  New        94.11    14280.728376"
      ]
     },
     "execution_count": 16,
     "metadata": {},
     "output_type": "execute_result"
    }
   ],
   "source": [
    "# Adding price_per_sqft column\n",
    "\n",
    "df4 = df3.copy()\n",
    "df4['Price_per_sqft'] = df4['price_lakhs']*100000/df4['area']\n",
    "df4.head()"
   ]
  },
  {
   "cell_type": "code",
   "execution_count": 17,
   "metadata": {},
   "outputs": [
    {
     "data": {
      "text/plain": [
       "array(['New', 'Resale', 'Unknown'], dtype=object)"
      ]
     },
     "execution_count": 17,
     "metadata": {},
     "output_type": "execute_result"
    }
   ],
   "source": [
    "df4.age.unique()"
   ]
  },
  {
   "cell_type": "code",
   "execution_count": 18,
   "metadata": {},
   "outputs": [
    {
     "data": {
      "text/html": [
       "<div>\n",
       "<style scoped>\n",
       "    .dataframe tbody tr th:only-of-type {\n",
       "        vertical-align: middle;\n",
       "    }\n",
       "\n",
       "    .dataframe tbody tr th {\n",
       "        vertical-align: top;\n",
       "    }\n",
       "\n",
       "    .dataframe thead th {\n",
       "        text-align: right;\n",
       "    }\n",
       "</style>\n",
       "<table border=\"1\" class=\"dataframe\">\n",
       "  <thead>\n",
       "    <tr style=\"text-align: right;\">\n",
       "      <th></th>\n",
       "      <th>bhk</th>\n",
       "      <th>type</th>\n",
       "      <th>area</th>\n",
       "      <th>region</th>\n",
       "      <th>age</th>\n",
       "      <th>price_lakhs</th>\n",
       "      <th>Price_per_sqft</th>\n",
       "    </tr>\n",
       "  </thead>\n",
       "  <tbody>\n",
       "    <tr>\n",
       "      <th>0</th>\n",
       "      <td>3</td>\n",
       "      <td>Apartment</td>\n",
       "      <td>685</td>\n",
       "      <td>Andheri West</td>\n",
       "      <td>New</td>\n",
       "      <td>250.00</td>\n",
       "      <td>36496.350365</td>\n",
       "    </tr>\n",
       "    <tr>\n",
       "      <th>1</th>\n",
       "      <td>2</td>\n",
       "      <td>Apartment</td>\n",
       "      <td>640</td>\n",
       "      <td>Naigaon East</td>\n",
       "      <td>New</td>\n",
       "      <td>52.51</td>\n",
       "      <td>8204.687500</td>\n",
       "    </tr>\n",
       "    <tr>\n",
       "      <th>2</th>\n",
       "      <td>2</td>\n",
       "      <td>Apartment</td>\n",
       "      <td>610</td>\n",
       "      <td>Borivali West</td>\n",
       "      <td>New</td>\n",
       "      <td>173.00</td>\n",
       "      <td>28360.655738</td>\n",
       "    </tr>\n",
       "    <tr>\n",
       "      <th>3</th>\n",
       "      <td>2</td>\n",
       "      <td>Apartment</td>\n",
       "      <td>876</td>\n",
       "      <td>Panvel</td>\n",
       "      <td>New</td>\n",
       "      <td>59.98</td>\n",
       "      <td>6847.031963</td>\n",
       "    </tr>\n",
       "    <tr>\n",
       "      <th>4</th>\n",
       "      <td>2</td>\n",
       "      <td>Apartment</td>\n",
       "      <td>659</td>\n",
       "      <td>Mira Road East</td>\n",
       "      <td>New</td>\n",
       "      <td>94.11</td>\n",
       "      <td>14280.728376</td>\n",
       "    </tr>\n",
       "  </tbody>\n",
       "</table>\n",
       "</div>"
      ],
      "text/plain": [
       "   bhk       type  area          region  age  price_lakhs  Price_per_sqft\n",
       "0    3  Apartment   685    Andheri West  New       250.00    36496.350365\n",
       "1    2  Apartment   640    Naigaon East  New        52.51     8204.687500\n",
       "2    2  Apartment   610   Borivali West  New       173.00    28360.655738\n",
       "3    2  Apartment   876          Panvel  New        59.98     6847.031963\n",
       "4    2  Apartment   659  Mira Road East  New        94.11    14280.728376"
      ]
     },
     "execution_count": 18,
     "metadata": {},
     "output_type": "execute_result"
    }
   ],
   "source": [
    "df5 = df4.replace('Unknown', value = np.NaN)\n",
    "df5.head()"
   ]
  },
  {
   "cell_type": "code",
   "execution_count": 19,
   "metadata": {},
   "outputs": [
    {
     "data": {
      "text/plain": [
       "bhk                   0\n",
       "type                  0\n",
       "area                  0\n",
       "region                0\n",
       "age               14609\n",
       "price_lakhs           0\n",
       "Price_per_sqft        0\n",
       "dtype: int64"
      ]
     },
     "execution_count": 19,
     "metadata": {},
     "output_type": "execute_result"
    }
   ],
   "source": [
    "df5.isnull().sum()"
   ]
  },
  {
   "cell_type": "code",
   "execution_count": 20,
   "metadata": {},
   "outputs": [
    {
     "data": {
      "text/plain": [
       "(61429, 7)"
      ]
     },
     "execution_count": 20,
     "metadata": {},
     "output_type": "execute_result"
    }
   ],
   "source": [
    "df6 = df5.dropna()\n",
    "df6.shape"
   ]
  },
  {
   "cell_type": "code",
   "execution_count": 21,
   "metadata": {},
   "outputs": [
    {
     "data": {
      "text/plain": [
       "bhk               0\n",
       "type              0\n",
       "area              0\n",
       "region            0\n",
       "age               0\n",
       "price_lakhs       0\n",
       "Price_per_sqft    0\n",
       "dtype: int64"
      ]
     },
     "execution_count": 21,
     "metadata": {},
     "output_type": "execute_result"
    }
   ],
   "source": [
    "df6.isnull().sum()"
   ]
  },
  {
   "cell_type": "markdown",
   "metadata": {},
   "source": [
    "# Feature Engineering"
   ]
  },
  {
   "cell_type": "code",
   "execution_count": 22,
   "metadata": {},
   "outputs": [
    {
     "data": {
      "text/plain": [
       "205"
      ]
     },
     "execution_count": 22,
     "metadata": {},
     "output_type": "execute_result"
    }
   ],
   "source": [
    "len(df6.region.unique())"
   ]
  },
  {
   "cell_type": "code",
   "execution_count": 23,
   "metadata": {},
   "outputs": [
    {
     "data": {
      "text/plain": [
       "0          Andheri West\n",
       "1          Naigaon East\n",
       "2         Borivali West\n",
       "3                Panvel\n",
       "4        Mira Road East\n",
       "              ...      \n",
       "76025        Thane West\n",
       "76026        Thane West\n",
       "76027        Thane West\n",
       "76028        Thane West\n",
       "76029        Thane West\n",
       "Name: region, Length: 61429, dtype: object"
      ]
     },
     "execution_count": 23,
     "metadata": {},
     "output_type": "execute_result"
    }
   ],
   "source": [
    "df6.region"
   ]
  },
  {
   "cell_type": "code",
   "execution_count": 24,
   "metadata": {},
   "outputs": [
    {
     "data": {
      "text/plain": [
       "Mira Road East         9759\n",
       "Thane West             7857\n",
       "Dombivali              2637\n",
       "Kandivali East         2267\n",
       "Kharghar               2028\n",
       "                       ... \n",
       "Peddar Road               1\n",
       "Kamathipura               1\n",
       "Usarghar Gaon             1\n",
       "Vevoor                    1\n",
       "Pestom Sagar Colony       1\n",
       "Name: region, Length: 205, dtype: int64"
      ]
     },
     "execution_count": 24,
     "metadata": {},
     "output_type": "execute_result"
    }
   ],
   "source": [
    "df6.region = df6.region.apply(lambda x: x.strip())\n",
    "region_stats = df6['region'].value_counts(ascending=False)\n",
    "region_stats"
   ]
  },
  {
   "cell_type": "code",
   "execution_count": 25,
   "metadata": {},
   "outputs": [
    {
     "data": {
      "text/plain": [
       "109"
      ]
     },
     "execution_count": 25,
     "metadata": {},
     "output_type": "execute_result"
    }
   ],
   "source": [
    "len(region_stats[region_stats>10])"
   ]
  },
  {
   "cell_type": "code",
   "execution_count": 26,
   "metadata": {},
   "outputs": [
    {
     "data": {
      "text/plain": [
       "96"
      ]
     },
     "execution_count": 26,
     "metadata": {},
     "output_type": "execute_result"
    }
   ],
   "source": [
    "len(region_stats[region_stats<=10])"
   ]
  },
  {
   "cell_type": "code",
   "execution_count": 27,
   "metadata": {},
   "outputs": [
    {
     "data": {
      "text/plain": [
       "Kanjurmarg East        10\n",
       "Sector 20 Kamothe      10\n",
       "Saphale                10\n",
       "Koproli                10\n",
       "Dahisar West            9\n",
       "                       ..\n",
       "Peddar Road             1\n",
       "Kamathipura             1\n",
       "Usarghar Gaon           1\n",
       "Vevoor                  1\n",
       "Pestom Sagar Colony     1\n",
       "Name: region, Length: 96, dtype: int64"
      ]
     },
     "execution_count": 27,
     "metadata": {},
     "output_type": "execute_result"
    }
   ],
   "source": [
    "region_stats_less_than_10 = region_stats[region_stats<=10]\n",
    "region_stats_less_than_10"
   ]
  },
  {
   "cell_type": "code",
   "execution_count": 28,
   "metadata": {},
   "outputs": [
    {
     "data": {
      "text/plain": [
       "110"
      ]
     },
     "execution_count": 28,
     "metadata": {},
     "output_type": "execute_result"
    }
   ],
   "source": [
    "df6.region = df6.region.apply(lambda x: 'other' if x in region_stats_less_than_10 else x)\n",
    "len(df6.region.unique())"
   ]
  },
  {
   "cell_type": "code",
   "execution_count": 29,
   "metadata": {},
   "outputs": [
    {
     "data": {
      "text/html": [
       "<div>\n",
       "<style scoped>\n",
       "    .dataframe tbody tr th:only-of-type {\n",
       "        vertical-align: middle;\n",
       "    }\n",
       "\n",
       "    .dataframe tbody tr th {\n",
       "        vertical-align: top;\n",
       "    }\n",
       "\n",
       "    .dataframe thead th {\n",
       "        text-align: right;\n",
       "    }\n",
       "</style>\n",
       "<table border=\"1\" class=\"dataframe\">\n",
       "  <thead>\n",
       "    <tr style=\"text-align: right;\">\n",
       "      <th></th>\n",
       "      <th>bhk</th>\n",
       "      <th>type</th>\n",
       "      <th>area</th>\n",
       "      <th>region</th>\n",
       "      <th>age</th>\n",
       "      <th>price_lakhs</th>\n",
       "      <th>Price_per_sqft</th>\n",
       "    </tr>\n",
       "  </thead>\n",
       "  <tbody>\n",
       "    <tr>\n",
       "      <th>0</th>\n",
       "      <td>3</td>\n",
       "      <td>Apartment</td>\n",
       "      <td>685</td>\n",
       "      <td>Andheri West</td>\n",
       "      <td>New</td>\n",
       "      <td>250.00</td>\n",
       "      <td>36496.350365</td>\n",
       "    </tr>\n",
       "    <tr>\n",
       "      <th>1</th>\n",
       "      <td>2</td>\n",
       "      <td>Apartment</td>\n",
       "      <td>640</td>\n",
       "      <td>Naigaon East</td>\n",
       "      <td>New</td>\n",
       "      <td>52.51</td>\n",
       "      <td>8204.687500</td>\n",
       "    </tr>\n",
       "    <tr>\n",
       "      <th>2</th>\n",
       "      <td>2</td>\n",
       "      <td>Apartment</td>\n",
       "      <td>610</td>\n",
       "      <td>Borivali West</td>\n",
       "      <td>New</td>\n",
       "      <td>173.00</td>\n",
       "      <td>28360.655738</td>\n",
       "    </tr>\n",
       "    <tr>\n",
       "      <th>3</th>\n",
       "      <td>2</td>\n",
       "      <td>Apartment</td>\n",
       "      <td>876</td>\n",
       "      <td>Panvel</td>\n",
       "      <td>New</td>\n",
       "      <td>59.98</td>\n",
       "      <td>6847.031963</td>\n",
       "    </tr>\n",
       "    <tr>\n",
       "      <th>4</th>\n",
       "      <td>2</td>\n",
       "      <td>Apartment</td>\n",
       "      <td>659</td>\n",
       "      <td>Mira Road East</td>\n",
       "      <td>New</td>\n",
       "      <td>94.11</td>\n",
       "      <td>14280.728376</td>\n",
       "    </tr>\n",
       "  </tbody>\n",
       "</table>\n",
       "</div>"
      ],
      "text/plain": [
       "   bhk       type  area          region  age  price_lakhs  Price_per_sqft\n",
       "0    3  Apartment   685    Andheri West  New       250.00    36496.350365\n",
       "1    2  Apartment   640    Naigaon East  New        52.51     8204.687500\n",
       "2    2  Apartment   610   Borivali West  New       173.00    28360.655738\n",
       "3    2  Apartment   876          Panvel  New        59.98     6847.031963\n",
       "4    2  Apartment   659  Mira Road East  New        94.11    14280.728376"
      ]
     },
     "execution_count": 29,
     "metadata": {},
     "output_type": "execute_result"
    }
   ],
   "source": [
    "df6.head()"
   ]
  },
  {
   "cell_type": "code",
   "execution_count": 30,
   "metadata": {},
   "outputs": [
    {
     "data": {
      "text/plain": [
       "bhk                 int64\n",
       "type               object\n",
       "area                int64\n",
       "region             object\n",
       "age                object\n",
       "price_lakhs       float64\n",
       "Price_per_sqft    float64\n",
       "dtype: object"
      ]
     },
     "execution_count": 30,
     "metadata": {},
     "output_type": "execute_result"
    }
   ],
   "source": [
    "df6.dtypes"
   ]
  },
  {
   "cell_type": "code",
   "execution_count": 31,
   "metadata": {},
   "outputs": [
    {
     "data": {
      "text/plain": [
       "(61429, 7)"
      ]
     },
     "execution_count": 31,
     "metadata": {},
     "output_type": "execute_result"
    }
   ],
   "source": [
    "df6.shape"
   ]
  },
  {
   "cell_type": "markdown",
   "metadata": {},
   "source": [
    "# Data visualization and Outlier Detection"
   ]
  },
  {
   "cell_type": "code",
   "execution_count": 32,
   "metadata": {},
   "outputs": [
    {
     "data": {
      "text/html": [
       "<div>\n",
       "<style scoped>\n",
       "    .dataframe tbody tr th:only-of-type {\n",
       "        vertical-align: middle;\n",
       "    }\n",
       "\n",
       "    .dataframe tbody tr th {\n",
       "        vertical-align: top;\n",
       "    }\n",
       "\n",
       "    .dataframe thead th {\n",
       "        text-align: right;\n",
       "    }\n",
       "</style>\n",
       "<table border=\"1\" class=\"dataframe\">\n",
       "  <thead>\n",
       "    <tr style=\"text-align: right;\">\n",
       "      <th></th>\n",
       "      <th>bhk</th>\n",
       "      <th>type</th>\n",
       "      <th>area</th>\n",
       "      <th>region</th>\n",
       "      <th>age</th>\n",
       "      <th>price_lakhs</th>\n",
       "      <th>Price_per_sqft</th>\n",
       "    </tr>\n",
       "  </thead>\n",
       "  <tbody>\n",
       "    <tr>\n",
       "      <th>0</th>\n",
       "      <td>3</td>\n",
       "      <td>Apartment</td>\n",
       "      <td>685</td>\n",
       "      <td>Andheri West</td>\n",
       "      <td>New</td>\n",
       "      <td>250.0</td>\n",
       "      <td>36496.350365</td>\n",
       "    </tr>\n",
       "    <tr>\n",
       "      <th>49</th>\n",
       "      <td>3</td>\n",
       "      <td>Apartment</td>\n",
       "      <td>685</td>\n",
       "      <td>Andheri West</td>\n",
       "      <td>New</td>\n",
       "      <td>250.0</td>\n",
       "      <td>36496.350365</td>\n",
       "    </tr>\n",
       "    <tr>\n",
       "      <th>131</th>\n",
       "      <td>2</td>\n",
       "      <td>Apartment</td>\n",
       "      <td>486</td>\n",
       "      <td>Badlapur East</td>\n",
       "      <td>New</td>\n",
       "      <td>36.0</td>\n",
       "      <td>7407.407407</td>\n",
       "    </tr>\n",
       "    <tr>\n",
       "      <th>132</th>\n",
       "      <td>2</td>\n",
       "      <td>Apartment</td>\n",
       "      <td>486</td>\n",
       "      <td>Badlapur East</td>\n",
       "      <td>New</td>\n",
       "      <td>36.0</td>\n",
       "      <td>7407.407407</td>\n",
       "    </tr>\n",
       "    <tr>\n",
       "      <th>457</th>\n",
       "      <td>2</td>\n",
       "      <td>Studio Apartment</td>\n",
       "      <td>415</td>\n",
       "      <td>Girgaon</td>\n",
       "      <td>Resale</td>\n",
       "      <td>95.0</td>\n",
       "      <td>22891.566265</td>\n",
       "    </tr>\n",
       "  </tbody>\n",
       "</table>\n",
       "</div>"
      ],
      "text/plain": [
       "     bhk              type  area         region     age  price_lakhs  \\\n",
       "0      3         Apartment   685   Andheri West     New        250.0   \n",
       "49     3         Apartment   685   Andheri West     New        250.0   \n",
       "131    2         Apartment   486  Badlapur East     New         36.0   \n",
       "132    2         Apartment   486  Badlapur East     New         36.0   \n",
       "457    2  Studio Apartment   415        Girgaon  Resale         95.0   \n",
       "\n",
       "     Price_per_sqft  \n",
       "0      36496.350365  \n",
       "49     36496.350365  \n",
       "131     7407.407407  \n",
       "132     7407.407407  \n",
       "457    22891.566265  "
      ]
     },
     "execution_count": 32,
     "metadata": {},
     "output_type": "execute_result"
    }
   ],
   "source": [
    "# Removing rows which don't fit the threshold of area/bhk\n",
    "df7 = df6\n",
    "df7[ df7.area / df7.bhk < 250 ].head()"
   ]
  },
  {
   "cell_type": "code",
   "execution_count": 33,
   "metadata": {},
   "outputs": [
    {
     "data": {
      "text/plain": [
       "(60507, 7)"
      ]
     },
     "execution_count": 33,
     "metadata": {},
     "output_type": "execute_result"
    }
   ],
   "source": [
    "df8 = df7[ ~(df7.area / df7.bhk < 250)]\n",
    "df8.shape"
   ]
  },
  {
   "cell_type": "code",
   "execution_count": 34,
   "metadata": {},
   "outputs": [
    {
     "data": {
      "text/plain": [
       "count     60507.000000\n",
       "mean      15131.002928\n",
       "std        9643.238521\n",
       "min         646.766169\n",
       "25%        8349.349349\n",
       "50%       12543.554007\n",
       "75%       19921.619020\n",
       "max      125000.000000\n",
       "Name: Price_per_sqft, dtype: float64"
      ]
     },
     "execution_count": 34,
     "metadata": {},
     "output_type": "execute_result"
    }
   ],
   "source": [
    "df8.Price_per_sqft.describe()"
   ]
  },
  {
   "cell_type": "code",
   "execution_count": 35,
   "metadata": {},
   "outputs": [
    {
     "data": {
      "text/plain": [
       "(60507, 7)"
      ]
     },
     "execution_count": 35,
     "metadata": {},
     "output_type": "execute_result"
    }
   ],
   "source": [
    "df8.shape"
   ]
  },
  {
   "cell_type": "code",
   "execution_count": 36,
   "metadata": {},
   "outputs": [],
   "source": [
    "# Removing price_per_sqft outliers\n",
    "\n",
    "def remove_pps_outliers(df):\n",
    "    df_out = pd.DataFrame()\n",
    "    for key, subdf in df.groupby('region'):\n",
    "        m = np.mean(subdf.Price_per_sqft)\n",
    "        st = np.std(subdf.Price_per_sqft)\n",
    "        reduced_df = subdf[ ( subdf.Price_per_sqft > (m - 2*st) ) & ( subdf.Price_per_sqft <= (m + 2*st) ) ]\n",
    "        df_out = pd.concat([df_out,reduced_df],ignore_index=True)\n",
    "    return df_out"
   ]
  },
  {
   "cell_type": "code",
   "execution_count": 37,
   "metadata": {},
   "outputs": [],
   "source": [
    "#plt.hist(np.log(df8.Price_per_sqft), rwidth = 0.8)\n",
    "#plt.xlabel('Price per sqft')\n",
    "#plt.ylabel('Count')"
   ]
  },
  {
   "cell_type": "code",
   "execution_count": 38,
   "metadata": {},
   "outputs": [
    {
     "data": {
      "text/plain": [
       "(57859, 7)"
      ]
     },
     "execution_count": 38,
     "metadata": {},
     "output_type": "execute_result"
    }
   ],
   "source": [
    "df9 = remove_pps_outliers(df8)\n",
    "df9.shape"
   ]
  },
  {
   "cell_type": "code",
   "execution_count": 39,
   "metadata": {},
   "outputs": [],
   "source": [
    "numerical_features = ['Price_per_sqft', 'price_lakhs', 'bhk', 'area' ]"
   ]
  },
  {
   "cell_type": "code",
   "execution_count": 40,
   "metadata": {},
   "outputs": [
    {
     "data": {
      "image/png": "[encoded data removed]",
      "text/plain": [
       "<Figure size 600x400 with 1 Axes>"
      ]
     },
     "metadata": {},
     "output_type": "display_data"
    },
    {
     "data": {
      "image/png": "[encoded data removed]",
      "text/plain": [
       "<Figure size 600x400 with 1 Axes>"
      ]
     },
     "metadata": {},
     "output_type": "display_data"
    },
    {
     "data": {
      "image/png": "[encoded data removed]",
      "text/plain": [
       "<Figure size 600x400 with 1 Axes>"
      ]
     },
     "metadata": {},
     "output_type": "display_data"
    },
    {
     "data": {
      "image/png": "[encoded data removed]",
      "text/plain": [
       "<Figure size 600x400 with 1 Axes>"
      ]
     },
     "metadata": {},
     "output_type": "display_data"
    }
   ],
   "source": [
    "for column in numerical_features:\n",
    "    plt.figure(figsize=(6, 4))\n",
    "    plt.boxplot(df9[column], vert = False, boxprops=dict())\n",
    "    plt.title(f'Box Plot of {column}')\n",
    "    plt.xlabel('Value')\n",
    "    plt.show()"
   ]
  },
  {
   "cell_type": "code",
   "execution_count": 41,
   "metadata": {},
   "outputs": [
    {
     "data": {
      "text/plain": [
       "array(['Agripada', 'Airoli', 'Ambernath East', 'Ambernath West',\n",
       "       'Andheri East', 'Andheri West', 'Anjurdive', 'Badlapur East',\n",
       "       'Badlapur West', 'Bandra East', 'Bandra Kurla Complex',\n",
       "       'Bandra West', 'Belapur', 'Bhandup East', 'Bhandup West',\n",
       "       'Bhayandar East', 'Bhayandar West', 'Bhiwandi', 'Boisar',\n",
       "       'Borivali East', 'Borivali West', 'Byculla', 'Chembur', 'Colaba',\n",
       "       'Dadar East', 'Dadar West', 'Dahisar', 'Deonar', 'Diva',\n",
       "       'Dombivali', 'Dronagiri', 'Ghansoli', 'Ghatkopar East',\n",
       "       'Ghatkopar West', 'Girgaon', 'Goregaon East', 'Goregaon West',\n",
       "       'Jogeshwari East', 'Jogeshwari West', 'Juhu', 'Juinagar',\n",
       "       'Kalamboli', 'Kalwa', 'Kalyan East', 'Kalyan West', 'Kamothe',\n",
       "       'Kandivali East', 'Kandivali West', 'Kanjurmarg', 'Karanjade',\n",
       "       'Karjat', 'Kasheli', 'Khar', 'Kharghar', 'Khopoli',\n",
       "       'Koper Khairane', 'Kurla', 'Lower Parel', 'Mahalaxmi', 'Mahim',\n",
       "       'Malad East', 'Malad West', 'Marine Lines', 'Matunga', 'Mazagaon',\n",
       "       'Mazgaon', 'Mira Road East', 'Mulund East', 'Mulund West',\n",
       "       'Nahur East', 'Naigaon East', 'Nala Sopara', 'Nalasopara East',\n",
       "       'Napeansea Road', 'Neral', 'Nerul', 'Nilje Gaon', 'Palghar',\n",
       "       'Panvel', 'Parel', 'Powai', 'Prabhadevi', 'Rasayani', 'Sanpada',\n",
       "       'Santacruz East', 'Santacruz West', 'Seawoods',\n",
       "       'Sector 21 Kamothe', 'Sewri', 'Shil Phata', 'Sion', 'Taloja',\n",
       "       'Taloje', 'Tardeo', 'Thane East', 'Thane West', 'Titwala', 'Ulwe',\n",
       "       'Umroli', 'Vangani', 'Vasai', 'Vashi', 'Vikhroli',\n",
       "       'Ville Parle East', 'Ville Parle West', 'Virar', 'Virar West',\n",
       "       'Wadala', 'Worli', 'other'], dtype=object)"
      ]
     },
     "execution_count": 41,
     "metadata": {},
     "output_type": "execute_result"
    }
   ],
   "source": [
    "df9['region'].unique()"
   ]
  },
  {
   "cell_type": "code",
   "execution_count": 42,
   "metadata": {},
   "outputs": [
    {
     "data": {
      "text/html": [
       "<div>\n",
       "<style scoped>\n",
       "    .dataframe tbody tr th:only-of-type {\n",
       "        vertical-align: middle;\n",
       "    }\n",
       "\n",
       "    .dataframe tbody tr th {\n",
       "        vertical-align: top;\n",
       "    }\n",
       "\n",
       "    .dataframe thead th {\n",
       "        text-align: right;\n",
       "    }\n",
       "</style>\n",
       "<table border=\"1\" class=\"dataframe\">\n",
       "  <thead>\n",
       "    <tr style=\"text-align: right;\">\n",
       "      <th></th>\n",
       "      <th>bhk</th>\n",
       "      <th>type</th>\n",
       "      <th>area</th>\n",
       "      <th>region</th>\n",
       "      <th>age</th>\n",
       "      <th>price_lakhs</th>\n",
       "      <th>Price_per_sqft</th>\n",
       "    </tr>\n",
       "  </thead>\n",
       "  <tbody>\n",
       "    <tr>\n",
       "      <th>0</th>\n",
       "      <td>2</td>\n",
       "      <td>Apartment</td>\n",
       "      <td>650</td>\n",
       "      <td>Agripada</td>\n",
       "      <td>Resale</td>\n",
       "      <td>262.0</td>\n",
       "      <td>40307.692308</td>\n",
       "    </tr>\n",
       "    <tr>\n",
       "      <th>1</th>\n",
       "      <td>3</td>\n",
       "      <td>Apartment</td>\n",
       "      <td>1300</td>\n",
       "      <td>Agripada</td>\n",
       "      <td>New</td>\n",
       "      <td>750.0</td>\n",
       "      <td>57692.307692</td>\n",
       "    </tr>\n",
       "    <tr>\n",
       "      <th>2</th>\n",
       "      <td>1</td>\n",
       "      <td>Apartment</td>\n",
       "      <td>803</td>\n",
       "      <td>Agripada</td>\n",
       "      <td>Resale</td>\n",
       "      <td>225.0</td>\n",
       "      <td>28019.925280</td>\n",
       "    </tr>\n",
       "    <tr>\n",
       "      <th>3</th>\n",
       "      <td>2</td>\n",
       "      <td>Apartment</td>\n",
       "      <td>825</td>\n",
       "      <td>Agripada</td>\n",
       "      <td>Resale</td>\n",
       "      <td>140.0</td>\n",
       "      <td>16969.696970</td>\n",
       "    </tr>\n",
       "    <tr>\n",
       "      <th>4</th>\n",
       "      <td>1</td>\n",
       "      <td>Apartment</td>\n",
       "      <td>684</td>\n",
       "      <td>Agripada</td>\n",
       "      <td>Resale</td>\n",
       "      <td>170.0</td>\n",
       "      <td>24853.801170</td>\n",
       "    </tr>\n",
       "  </tbody>\n",
       "</table>\n",
       "</div>"
      ],
      "text/plain": [
       "   bhk       type  area    region     age  price_lakhs  Price_per_sqft\n",
       "0    2  Apartment   650  Agripada  Resale        262.0    40307.692308\n",
       "1    3  Apartment  1300  Agripada     New        750.0    57692.307692\n",
       "2    1  Apartment   803  Agripada  Resale        225.0    28019.925280\n",
       "3    2  Apartment   825  Agripada  Resale        140.0    16969.696970\n",
       "4    1  Apartment   684  Agripada  Resale        170.0    24853.801170"
      ]
     },
     "execution_count": 42,
     "metadata": {},
     "output_type": "execute_result"
    }
   ],
   "source": [
    "df10 = df9.copy()\n",
    "df10.head()"
   ]
  },
  {
   "cell_type": "code",
   "execution_count": 43,
   "metadata": {},
   "outputs": [
    {
     "data": {
      "image/png": "[encoded data removed]",
      "text/plain": [
       "<Figure size 1500x1000 with 1 Axes>"
      ]
     },
     "metadata": {},
     "output_type": "display_data"
    }
   ],
   "source": [
    "import matplotlib.pyplot as plt\n",
    "import matplotlib\n",
    "\n",
    "def chart(df, region):\n",
    "    bhk2 = df[(df.region == region) & (df.bhk == 2)]\n",
    "    bhk3 = df[(df.region == region) & (df.bhk == 3)]\n",
    "    \n",
    "    matplotlib.rcParams['figure.figsize'] = (15, 10)\n",
    "    \n",
    "    plt.scatter(bhk2.area, bhk2.price_lakhs, color='blue', label='2 BHK', s=50)\n",
    "    plt.scatter(bhk3.area, bhk3.price_lakhs, marker='+', color='green', label='3 BHK', s=50)\n",
    "    \n",
    "    plt.xlabel(\"Total Square Feet Area\")\n",
    "    plt.ylabel(\"Price (Lakh Indian Rupees)\")\n",
    "    plt.title(region)\n",
    "    plt.legend()\n",
    "\n",
    "chart(df10, \"Agripada\")\n",
    "plt.show()"
   ]
  },
  {
   "cell_type": "code",
   "execution_count": 44,
   "metadata": {},
   "outputs": [
    {
     "data": {
      "image/png": "[encoded data removed]",
      "text/plain": [
       "<Figure size 1500x1000 with 1 Axes>"
      ]
     },
     "metadata": {},
     "output_type": "display_data"
    }
   ],
   "source": [
    "chart(df10,'Vashi')"
   ]
  },
  {
   "cell_type": "code",
   "execution_count": 45,
   "metadata": {},
   "outputs": [
    {
     "data": {
      "text/plain": [
       "(57859, 7)"
      ]
     },
     "execution_count": 45,
     "metadata": {},
     "output_type": "execute_result"
    }
   ],
   "source": [
    "df10.head()\n",
    "df10.shape"
   ]
  },
  {
   "cell_type": "code",
   "execution_count": 46,
   "metadata": {},
   "outputs": [],
   "source": [
    "def remove_bhk_outliers(df):\n",
    "    exclude_indices = np.array([])\n",
    "    for region, region_df in df.groupby('region'):\n",
    "        global bhk_stats\n",
    "        bhk_stats = {}\n",
    "        for bhk, bhk_df in region_df.groupby('bhk'):\n",
    "            bhk_stats[bhk] = {\n",
    "                'mean': np.mean(bhk_df.Price_per_sqft),\n",
    "                'std': np.std(bhk_df.Price_per_sqft),\n",
    "                'count': bhk_df.shape[0]\n",
    "                \n",
    "            }\n",
    "        for bhk, bhk_df in region_df.groupby('bhk'):\n",
    "            stats = bhk_stats.get(bhk-1)\n",
    "            if stats and stats['count']>5:\n",
    "                exclude_indices = np.append(exclude_indices, bhk_df[bhk_df.Price_per_sqft<(stats['mean'])].index.values)\n",
    "    return df.drop(exclude_indices,axis='index')\n"
   ]
  },
  {
   "cell_type": "code",
   "execution_count": 47,
   "metadata": {},
   "outputs": [
    {
     "name": "stdout",
     "output_type": "stream",
     "text": [
      "(41955, 7)\n"
     ]
    }
   ],
   "source": [
    "df11 = remove_bhk_outliers(df10)\n",
    "print(df11.shape)"
   ]
  },
  {
   "cell_type": "code",
   "execution_count": 48,
   "metadata": {},
   "outputs": [
    {
     "data": {
      "text/plain": [
       "{1: {'mean': 8741.604639291218, 'std': 5219.209597150165, 'count': 153},\n",
       " 2: {'mean': 8844.322386583643, 'std': 4682.912355110132, 'count': 81},\n",
       " 3: {'mean': 14110.059708392266, 'std': 4572.753961012929, 'count': 34},\n",
       " 4: {'mean': 8489.795918367347, 'std': 5784.484052846187, 'count': 3}}"
      ]
     },
     "execution_count": 48,
     "metadata": {},
     "output_type": "execute_result"
    }
   ],
   "source": [
    "bhk_stats"
   ]
  },
  {
   "cell_type": "code",
   "execution_count": 49,
   "metadata": {},
   "outputs": [
    {
     "data": {
      "image/png": "[encoded data removed]",
      "text/plain": [
       "<Figure size 1500x1000 with 1 Axes>"
      ]
     },
     "metadata": {},
     "output_type": "display_data"
    }
   ],
   "source": [
    "chart(df11,'Vashi')"
   ]
  },
  {
   "cell_type": "code",
   "execution_count": 50,
   "metadata": {},
   "outputs": [
    {
     "data": {
      "image/png": "[encoded data removed]",
      "text/plain": [
       "<Figure size 1500x1000 with 1 Axes>"
      ]
     },
     "metadata": {},
     "output_type": "display_data"
    }
   ],
   "source": [
    "chart(df11,'Agripada')"
   ]
  },
  {
   "cell_type": "code",
   "execution_count": 51,
   "metadata": {},
   "outputs": [
    {
     "data": {
      "text/html": [
       "<div>\n",
       "<style scoped>\n",
       "    .dataframe tbody tr th:only-of-type {\n",
       "        vertical-align: middle;\n",
       "    }\n",
       "\n",
       "    .dataframe tbody tr th {\n",
       "        vertical-align: top;\n",
       "    }\n",
       "\n",
       "    .dataframe thead th {\n",
       "        text-align: right;\n",
       "    }\n",
       "</style>\n",
       "<table border=\"1\" class=\"dataframe\">\n",
       "  <thead>\n",
       "    <tr style=\"text-align: right;\">\n",
       "      <th></th>\n",
       "      <th>bhk</th>\n",
       "      <th>type</th>\n",
       "      <th>area</th>\n",
       "      <th>region</th>\n",
       "      <th>age</th>\n",
       "      <th>price_lakhs</th>\n",
       "      <th>Price_per_sqft</th>\n",
       "    </tr>\n",
       "  </thead>\n",
       "  <tbody>\n",
       "    <tr>\n",
       "      <th>0</th>\n",
       "      <td>2</td>\n",
       "      <td>Apartment</td>\n",
       "      <td>650</td>\n",
       "      <td>Agripada</td>\n",
       "      <td>Resale</td>\n",
       "      <td>262.0</td>\n",
       "      <td>40307.692308</td>\n",
       "    </tr>\n",
       "    <tr>\n",
       "      <th>1</th>\n",
       "      <td>3</td>\n",
       "      <td>Apartment</td>\n",
       "      <td>1300</td>\n",
       "      <td>Agripada</td>\n",
       "      <td>New</td>\n",
       "      <td>750.0</td>\n",
       "      <td>57692.307692</td>\n",
       "    </tr>\n",
       "    <tr>\n",
       "      <th>2</th>\n",
       "      <td>1</td>\n",
       "      <td>Apartment</td>\n",
       "      <td>803</td>\n",
       "      <td>Agripada</td>\n",
       "      <td>Resale</td>\n",
       "      <td>225.0</td>\n",
       "      <td>28019.925280</td>\n",
       "    </tr>\n",
       "    <tr>\n",
       "      <th>4</th>\n",
       "      <td>1</td>\n",
       "      <td>Apartment</td>\n",
       "      <td>684</td>\n",
       "      <td>Agripada</td>\n",
       "      <td>Resale</td>\n",
       "      <td>170.0</td>\n",
       "      <td>24853.801170</td>\n",
       "    </tr>\n",
       "    <tr>\n",
       "      <th>5</th>\n",
       "      <td>1</td>\n",
       "      <td>Apartment</td>\n",
       "      <td>545</td>\n",
       "      <td>Agripada</td>\n",
       "      <td>Resale</td>\n",
       "      <td>160.0</td>\n",
       "      <td>29357.798165</td>\n",
       "    </tr>\n",
       "  </tbody>\n",
       "</table>\n",
       "</div>"
      ],
      "text/plain": [
       "   bhk       type  area    region     age  price_lakhs  Price_per_sqft\n",
       "0    2  Apartment   650  Agripada  Resale        262.0    40307.692308\n",
       "1    3  Apartment  1300  Agripada     New        750.0    57692.307692\n",
       "2    1  Apartment   803  Agripada  Resale        225.0    28019.925280\n",
       "4    1  Apartment   684  Agripada  Resale        170.0    24853.801170\n",
       "5    1  Apartment   545  Agripada  Resale        160.0    29357.798165"
      ]
     },
     "execution_count": 51,
     "metadata": {},
     "output_type": "execute_result"
    }
   ],
   "source": [
    "df11.head()"
   ]
  },
  {
   "cell_type": "code",
   "execution_count": 52,
   "metadata": {},
   "outputs": [
    {
     "data": {
      "text/html": [
       "<div>\n",
       "<style scoped>\n",
       "    .dataframe tbody tr th:only-of-type {\n",
       "        vertical-align: middle;\n",
       "    }\n",
       "\n",
       "    .dataframe tbody tr th {\n",
       "        vertical-align: top;\n",
       "    }\n",
       "\n",
       "    .dataframe thead th {\n",
       "        text-align: right;\n",
       "    }\n",
       "</style>\n",
       "<table border=\"1\" class=\"dataframe\">\n",
       "  <thead>\n",
       "    <tr style=\"text-align: right;\">\n",
       "      <th></th>\n",
       "      <th>bhk</th>\n",
       "      <th>area</th>\n",
       "      <th>region</th>\n",
       "      <th>price_lakhs</th>\n",
       "    </tr>\n",
       "  </thead>\n",
       "  <tbody>\n",
       "    <tr>\n",
       "      <th>0</th>\n",
       "      <td>2</td>\n",
       "      <td>650</td>\n",
       "      <td>Agripada</td>\n",
       "      <td>262.0</td>\n",
       "    </tr>\n",
       "    <tr>\n",
       "      <th>1</th>\n",
       "      <td>3</td>\n",
       "      <td>1300</td>\n",
       "      <td>Agripada</td>\n",
       "      <td>750.0</td>\n",
       "    </tr>\n",
       "    <tr>\n",
       "      <th>2</th>\n",
       "      <td>1</td>\n",
       "      <td>803</td>\n",
       "      <td>Agripada</td>\n",
       "      <td>225.0</td>\n",
       "    </tr>\n",
       "    <tr>\n",
       "      <th>4</th>\n",
       "      <td>1</td>\n",
       "      <td>684</td>\n",
       "      <td>Agripada</td>\n",
       "      <td>170.0</td>\n",
       "    </tr>\n",
       "    <tr>\n",
       "      <th>5</th>\n",
       "      <td>1</td>\n",
       "      <td>545</td>\n",
       "      <td>Agripada</td>\n",
       "      <td>160.0</td>\n",
       "    </tr>\n",
       "  </tbody>\n",
       "</table>\n",
       "</div>"
      ],
      "text/plain": [
       "   bhk  area    region  price_lakhs\n",
       "0    2   650  Agripada        262.0\n",
       "1    3  1300  Agripada        750.0\n",
       "2    1   803  Agripada        225.0\n",
       "4    1   684  Agripada        170.0\n",
       "5    1   545  Agripada        160.0"
      ]
     },
     "execution_count": 52,
     "metadata": {},
     "output_type": "execute_result"
    }
   ],
   "source": [
    "#Dropping price_per_sqft column\n",
    "\n",
    "df12 = df11.drop(['Price_per_sqft','type','age'],axis='columns')\n",
    "df12.head()"
   ]
  },
  {
   "cell_type": "markdown",
   "metadata": {},
   "source": [
    "# One hot encoding"
   ]
  },
  {
   "cell_type": "raw",
   "metadata": {},
   "source": [
    "One hot encoding of categorical variables: region"
   ]
  },
  {
   "cell_type": "code",
   "execution_count": 53,
   "metadata": {},
   "outputs": [
    {
     "data": {
      "text/html": [
       "<div>\n",
       "<style scoped>\n",
       "    .dataframe tbody tr th:only-of-type {\n",
       "        vertical-align: middle;\n",
       "    }\n",
       "\n",
       "    .dataframe tbody tr th {\n",
       "        vertical-align: top;\n",
       "    }\n",
       "\n",
       "    .dataframe thead th {\n",
       "        text-align: right;\n",
       "    }\n",
       "</style>\n",
       "<table border=\"1\" class=\"dataframe\">\n",
       "  <thead>\n",
       "    <tr style=\"text-align: right;\">\n",
       "      <th></th>\n",
       "      <th>Agripada</th>\n",
       "      <th>Airoli</th>\n",
       "      <th>Ambernath East</th>\n",
       "      <th>Ambernath West</th>\n",
       "      <th>Andheri East</th>\n",
       "      <th>Andheri West</th>\n",
       "      <th>Anjurdive</th>\n",
       "      <th>Badlapur East</th>\n",
       "      <th>Badlapur West</th>\n",
       "      <th>Bandra East</th>\n",
       "      <th>...</th>\n",
       "      <th>Vasai</th>\n",
       "      <th>Vashi</th>\n",
       "      <th>Vikhroli</th>\n",
       "      <th>Ville Parle East</th>\n",
       "      <th>Ville Parle West</th>\n",
       "      <th>Virar</th>\n",
       "      <th>Virar West</th>\n",
       "      <th>Wadala</th>\n",
       "      <th>Worli</th>\n",
       "      <th>other</th>\n",
       "    </tr>\n",
       "  </thead>\n",
       "  <tbody>\n",
       "    <tr>\n",
       "      <th>0</th>\n",
       "      <td>1</td>\n",
       "      <td>0</td>\n",
       "      <td>0</td>\n",
       "      <td>0</td>\n",
       "      <td>0</td>\n",
       "      <td>0</td>\n",
       "      <td>0</td>\n",
       "      <td>0</td>\n",
       "      <td>0</td>\n",
       "      <td>0</td>\n",
       "      <td>...</td>\n",
       "      <td>0</td>\n",
       "      <td>0</td>\n",
       "      <td>0</td>\n",
       "      <td>0</td>\n",
       "      <td>0</td>\n",
       "      <td>0</td>\n",
       "      <td>0</td>\n",
       "      <td>0</td>\n",
       "      <td>0</td>\n",
       "      <td>0</td>\n",
       "    </tr>\n",
       "    <tr>\n",
       "      <th>1</th>\n",
       "      <td>1</td>\n",
       "      <td>0</td>\n",
       "      <td>0</td>\n",
       "      <td>0</td>\n",
       "      <td>0</td>\n",
       "      <td>0</td>\n",
       "      <td>0</td>\n",
       "      <td>0</td>\n",
       "      <td>0</td>\n",
       "      <td>0</td>\n",
       "      <td>...</td>\n",
       "      <td>0</td>\n",
       "      <td>0</td>\n",
       "      <td>0</td>\n",
       "      <td>0</td>\n",
       "      <td>0</td>\n",
       "      <td>0</td>\n",
       "      <td>0</td>\n",
       "      <td>0</td>\n",
       "      <td>0</td>\n",
       "      <td>0</td>\n",
       "    </tr>\n",
       "    <tr>\n",
       "      <th>2</th>\n",
       "      <td>1</td>\n",
       "      <td>0</td>\n",
       "      <td>0</td>\n",
       "      <td>0</td>\n",
       "      <td>0</td>\n",
       "      <td>0</td>\n",
       "      <td>0</td>\n",
       "      <td>0</td>\n",
       "      <td>0</td>\n",
       "      <td>0</td>\n",
       "      <td>...</td>\n",
       "      <td>0</td>\n",
       "      <td>0</td>\n",
       "      <td>0</td>\n",
       "      <td>0</td>\n",
       "      <td>0</td>\n",
       "      <td>0</td>\n",
       "      <td>0</td>\n",
       "      <td>0</td>\n",
       "      <td>0</td>\n",
       "      <td>0</td>\n",
       "    </tr>\n",
       "    <tr>\n",
       "      <th>4</th>\n",
       "      <td>1</td>\n",
       "      <td>0</td>\n",
       "      <td>0</td>\n",
       "      <td>0</td>\n",
       "      <td>0</td>\n",
       "      <td>0</td>\n",
       "      <td>0</td>\n",
       "      <td>0</td>\n",
       "      <td>0</td>\n",
       "      <td>0</td>\n",
       "      <td>...</td>\n",
       "      <td>0</td>\n",
       "      <td>0</td>\n",
       "      <td>0</td>\n",
       "      <td>0</td>\n",
       "      <td>0</td>\n",
       "      <td>0</td>\n",
       "      <td>0</td>\n",
       "      <td>0</td>\n",
       "      <td>0</td>\n",
       "      <td>0</td>\n",
       "    </tr>\n",
       "    <tr>\n",
       "      <th>5</th>\n",
       "      <td>1</td>\n",
       "      <td>0</td>\n",
       "      <td>0</td>\n",
       "      <td>0</td>\n",
       "      <td>0</td>\n",
       "      <td>0</td>\n",
       "      <td>0</td>\n",
       "      <td>0</td>\n",
       "      <td>0</td>\n",
       "      <td>0</td>\n",
       "      <td>...</td>\n",
       "      <td>0</td>\n",
       "      <td>0</td>\n",
       "      <td>0</td>\n",
       "      <td>0</td>\n",
       "      <td>0</td>\n",
       "      <td>0</td>\n",
       "      <td>0</td>\n",
       "      <td>0</td>\n",
       "      <td>0</td>\n",
       "      <td>0</td>\n",
       "    </tr>\n",
       "    <tr>\n",
       "      <th>7</th>\n",
       "      <td>1</td>\n",
       "      <td>0</td>\n",
       "      <td>0</td>\n",
       "      <td>0</td>\n",
       "      <td>0</td>\n",
       "      <td>0</td>\n",
       "      <td>0</td>\n",
       "      <td>0</td>\n",
       "      <td>0</td>\n",
       "      <td>0</td>\n",
       "      <td>...</td>\n",
       "      <td>0</td>\n",
       "      <td>0</td>\n",
       "      <td>0</td>\n",
       "      <td>0</td>\n",
       "      <td>0</td>\n",
       "      <td>0</td>\n",
       "      <td>0</td>\n",
       "      <td>0</td>\n",
       "      <td>0</td>\n",
       "      <td>0</td>\n",
       "    </tr>\n",
       "    <tr>\n",
       "      <th>9</th>\n",
       "      <td>1</td>\n",
       "      <td>0</td>\n",
       "      <td>0</td>\n",
       "      <td>0</td>\n",
       "      <td>0</td>\n",
       "      <td>0</td>\n",
       "      <td>0</td>\n",
       "      <td>0</td>\n",
       "      <td>0</td>\n",
       "      <td>0</td>\n",
       "      <td>...</td>\n",
       "      <td>0</td>\n",
       "      <td>0</td>\n",
       "      <td>0</td>\n",
       "      <td>0</td>\n",
       "      <td>0</td>\n",
       "      <td>0</td>\n",
       "      <td>0</td>\n",
       "      <td>0</td>\n",
       "      <td>0</td>\n",
       "      <td>0</td>\n",
       "    </tr>\n",
       "    <tr>\n",
       "      <th>10</th>\n",
       "      <td>1</td>\n",
       "      <td>0</td>\n",
       "      <td>0</td>\n",
       "      <td>0</td>\n",
       "      <td>0</td>\n",
       "      <td>0</td>\n",
       "      <td>0</td>\n",
       "      <td>0</td>\n",
       "      <td>0</td>\n",
       "      <td>0</td>\n",
       "      <td>...</td>\n",
       "      <td>0</td>\n",
       "      <td>0</td>\n",
       "      <td>0</td>\n",
       "      <td>0</td>\n",
       "      <td>0</td>\n",
       "      <td>0</td>\n",
       "      <td>0</td>\n",
       "      <td>0</td>\n",
       "      <td>0</td>\n",
       "      <td>0</td>\n",
       "    </tr>\n",
       "    <tr>\n",
       "      <th>13</th>\n",
       "      <td>1</td>\n",
       "      <td>0</td>\n",
       "      <td>0</td>\n",
       "      <td>0</td>\n",
       "      <td>0</td>\n",
       "      <td>0</td>\n",
       "      <td>0</td>\n",
       "      <td>0</td>\n",
       "      <td>0</td>\n",
       "      <td>0</td>\n",
       "      <td>...</td>\n",
       "      <td>0</td>\n",
       "      <td>0</td>\n",
       "      <td>0</td>\n",
       "      <td>0</td>\n",
       "      <td>0</td>\n",
       "      <td>0</td>\n",
       "      <td>0</td>\n",
       "      <td>0</td>\n",
       "      <td>0</td>\n",
       "      <td>0</td>\n",
       "    </tr>\n",
       "    <tr>\n",
       "      <th>14</th>\n",
       "      <td>1</td>\n",
       "      <td>0</td>\n",
       "      <td>0</td>\n",
       "      <td>0</td>\n",
       "      <td>0</td>\n",
       "      <td>0</td>\n",
       "      <td>0</td>\n",
       "      <td>0</td>\n",
       "      <td>0</td>\n",
       "      <td>0</td>\n",
       "      <td>...</td>\n",
       "      <td>0</td>\n",
       "      <td>0</td>\n",
       "      <td>0</td>\n",
       "      <td>0</td>\n",
       "      <td>0</td>\n",
       "      <td>0</td>\n",
       "      <td>0</td>\n",
       "      <td>0</td>\n",
       "      <td>0</td>\n",
       "      <td>0</td>\n",
       "    </tr>\n",
       "    <tr>\n",
       "      <th>15</th>\n",
       "      <td>1</td>\n",
       "      <td>0</td>\n",
       "      <td>0</td>\n",
       "      <td>0</td>\n",
       "      <td>0</td>\n",
       "      <td>0</td>\n",
       "      <td>0</td>\n",
       "      <td>0</td>\n",
       "      <td>0</td>\n",
       "      <td>0</td>\n",
       "      <td>...</td>\n",
       "      <td>0</td>\n",
       "      <td>0</td>\n",
       "      <td>0</td>\n",
       "      <td>0</td>\n",
       "      <td>0</td>\n",
       "      <td>0</td>\n",
       "      <td>0</td>\n",
       "      <td>0</td>\n",
       "      <td>0</td>\n",
       "      <td>0</td>\n",
       "    </tr>\n",
       "    <tr>\n",
       "      <th>18</th>\n",
       "      <td>1</td>\n",
       "      <td>0</td>\n",
       "      <td>0</td>\n",
       "      <td>0</td>\n",
       "      <td>0</td>\n",
       "      <td>0</td>\n",
       "      <td>0</td>\n",
       "      <td>0</td>\n",
       "      <td>0</td>\n",
       "      <td>0</td>\n",
       "      <td>...</td>\n",
       "      <td>0</td>\n",
       "      <td>0</td>\n",
       "      <td>0</td>\n",
       "      <td>0</td>\n",
       "      <td>0</td>\n",
       "      <td>0</td>\n",
       "      <td>0</td>\n",
       "      <td>0</td>\n",
       "      <td>0</td>\n",
       "      <td>0</td>\n",
       "    </tr>\n",
       "    <tr>\n",
       "      <th>22</th>\n",
       "      <td>1</td>\n",
       "      <td>0</td>\n",
       "      <td>0</td>\n",
       "      <td>0</td>\n",
       "      <td>0</td>\n",
       "      <td>0</td>\n",
       "      <td>0</td>\n",
       "      <td>0</td>\n",
       "      <td>0</td>\n",
       "      <td>0</td>\n",
       "      <td>...</td>\n",
       "      <td>0</td>\n",
       "      <td>0</td>\n",
       "      <td>0</td>\n",
       "      <td>0</td>\n",
       "      <td>0</td>\n",
       "      <td>0</td>\n",
       "      <td>0</td>\n",
       "      <td>0</td>\n",
       "      <td>0</td>\n",
       "      <td>0</td>\n",
       "    </tr>\n",
       "    <tr>\n",
       "      <th>25</th>\n",
       "      <td>1</td>\n",
       "      <td>0</td>\n",
       "      <td>0</td>\n",
       "      <td>0</td>\n",
       "      <td>0</td>\n",
       "      <td>0</td>\n",
       "      <td>0</td>\n",
       "      <td>0</td>\n",
       "      <td>0</td>\n",
       "      <td>0</td>\n",
       "      <td>...</td>\n",
       "      <td>0</td>\n",
       "      <td>0</td>\n",
       "      <td>0</td>\n",
       "      <td>0</td>\n",
       "      <td>0</td>\n",
       "      <td>0</td>\n",
       "      <td>0</td>\n",
       "      <td>0</td>\n",
       "      <td>0</td>\n",
       "      <td>0</td>\n",
       "    </tr>\n",
       "    <tr>\n",
       "      <th>26</th>\n",
       "      <td>1</td>\n",
       "      <td>0</td>\n",
       "      <td>0</td>\n",
       "      <td>0</td>\n",
       "      <td>0</td>\n",
       "      <td>0</td>\n",
       "      <td>0</td>\n",
       "      <td>0</td>\n",
       "      <td>0</td>\n",
       "      <td>0</td>\n",
       "      <td>...</td>\n",
       "      <td>0</td>\n",
       "      <td>0</td>\n",
       "      <td>0</td>\n",
       "      <td>0</td>\n",
       "      <td>0</td>\n",
       "      <td>0</td>\n",
       "      <td>0</td>\n",
       "      <td>0</td>\n",
       "      <td>0</td>\n",
       "      <td>0</td>\n",
       "    </tr>\n",
       "    <tr>\n",
       "      <th>28</th>\n",
       "      <td>1</td>\n",
       "      <td>0</td>\n",
       "      <td>0</td>\n",
       "      <td>0</td>\n",
       "      <td>0</td>\n",
       "      <td>0</td>\n",
       "      <td>0</td>\n",
       "      <td>0</td>\n",
       "      <td>0</td>\n",
       "      <td>0</td>\n",
       "      <td>...</td>\n",
       "      <td>0</td>\n",
       "      <td>0</td>\n",
       "      <td>0</td>\n",
       "      <td>0</td>\n",
       "      <td>0</td>\n",
       "      <td>0</td>\n",
       "      <td>0</td>\n",
       "      <td>0</td>\n",
       "      <td>0</td>\n",
       "      <td>0</td>\n",
       "    </tr>\n",
       "    <tr>\n",
       "      <th>29</th>\n",
       "      <td>1</td>\n",
       "      <td>0</td>\n",
       "      <td>0</td>\n",
       "      <td>0</td>\n",
       "      <td>0</td>\n",
       "      <td>0</td>\n",
       "      <td>0</td>\n",
       "      <td>0</td>\n",
       "      <td>0</td>\n",
       "      <td>0</td>\n",
       "      <td>...</td>\n",
       "      <td>0</td>\n",
       "      <td>0</td>\n",
       "      <td>0</td>\n",
       "      <td>0</td>\n",
       "      <td>0</td>\n",
       "      <td>0</td>\n",
       "      <td>0</td>\n",
       "      <td>0</td>\n",
       "      <td>0</td>\n",
       "      <td>0</td>\n",
       "    </tr>\n",
       "    <tr>\n",
       "      <th>30</th>\n",
       "      <td>1</td>\n",
       "      <td>0</td>\n",
       "      <td>0</td>\n",
       "      <td>0</td>\n",
       "      <td>0</td>\n",
       "      <td>0</td>\n",
       "      <td>0</td>\n",
       "      <td>0</td>\n",
       "      <td>0</td>\n",
       "      <td>0</td>\n",
       "      <td>...</td>\n",
       "      <td>0</td>\n",
       "      <td>0</td>\n",
       "      <td>0</td>\n",
       "      <td>0</td>\n",
       "      <td>0</td>\n",
       "      <td>0</td>\n",
       "      <td>0</td>\n",
       "      <td>0</td>\n",
       "      <td>0</td>\n",
       "      <td>0</td>\n",
       "    </tr>\n",
       "    <tr>\n",
       "      <th>31</th>\n",
       "      <td>1</td>\n",
       "      <td>0</td>\n",
       "      <td>0</td>\n",
       "      <td>0</td>\n",
       "      <td>0</td>\n",
       "      <td>0</td>\n",
       "      <td>0</td>\n",
       "      <td>0</td>\n",
       "      <td>0</td>\n",
       "      <td>0</td>\n",
       "      <td>...</td>\n",
       "      <td>0</td>\n",
       "      <td>0</td>\n",
       "      <td>0</td>\n",
       "      <td>0</td>\n",
       "      <td>0</td>\n",
       "      <td>0</td>\n",
       "      <td>0</td>\n",
       "      <td>0</td>\n",
       "      <td>0</td>\n",
       "      <td>0</td>\n",
       "    </tr>\n",
       "    <tr>\n",
       "      <th>33</th>\n",
       "      <td>1</td>\n",
       "      <td>0</td>\n",
       "      <td>0</td>\n",
       "      <td>0</td>\n",
       "      <td>0</td>\n",
       "      <td>0</td>\n",
       "      <td>0</td>\n",
       "      <td>0</td>\n",
       "      <td>0</td>\n",
       "      <td>0</td>\n",
       "      <td>...</td>\n",
       "      <td>0</td>\n",
       "      <td>0</td>\n",
       "      <td>0</td>\n",
       "      <td>0</td>\n",
       "      <td>0</td>\n",
       "      <td>0</td>\n",
       "      <td>0</td>\n",
       "      <td>0</td>\n",
       "      <td>0</td>\n",
       "      <td>0</td>\n",
       "    </tr>\n",
       "  </tbody>\n",
       "</table>\n",
       "<p>20 rows × 110 columns</p>\n",
       "</div>"
      ],
      "text/plain": [
       "    Agripada  Airoli  Ambernath East  Ambernath West  Andheri East  \\\n",
       "0          1       0               0               0             0   \n",
       "1          1       0               0               0             0   \n",
       "2          1       0               0               0             0   \n",
       "4          1       0               0               0             0   \n",
       "5          1       0               0               0             0   \n",
       "7          1       0               0               0             0   \n",
       "9          1       0               0               0             0   \n",
       "10         1       0               0               0             0   \n",
       "13         1       0               0               0             0   \n",
       "14         1       0               0               0             0   \n",
       "15         1       0               0               0             0   \n",
       "18         1       0               0               0             0   \n",
       "22         1       0               0               0             0   \n",
       "25         1       0               0               0             0   \n",
       "26         1       0               0               0             0   \n",
       "28         1       0               0               0             0   \n",
       "29         1       0               0               0             0   \n",
       "30         1       0               0               0             0   \n",
       "31         1       0               0               0             0   \n",
       "33         1       0               0               0             0   \n",
       "\n",
       "    Andheri West  Anjurdive  Badlapur East  Badlapur West  Bandra East  ...  \\\n",
       "0              0          0              0              0            0  ...   \n",
       "1              0          0              0              0            0  ...   \n",
       "2              0          0              0              0            0  ...   \n",
       "4              0          0              0              0            0  ...   \n",
       "5              0          0              0              0            0  ...   \n",
       "7              0          0              0              0            0  ...   \n",
       "9              0          0              0              0            0  ...   \n",
       "10             0          0              0              0            0  ...   \n",
       "13             0          0              0              0            0  ...   \n",
       "14             0          0              0              0            0  ...   \n",
       "15             0          0              0              0            0  ...   \n",
       "18             0          0              0              0            0  ...   \n",
       "22             0          0              0              0            0  ...   \n",
       "25             0          0              0              0            0  ...   \n",
       "26             0          0              0              0            0  ...   \n",
       "28             0          0              0              0            0  ...   \n",
       "29             0          0              0              0            0  ...   \n",
       "30             0          0              0              0            0  ...   \n",
       "31             0          0              0              0            0  ...   \n",
       "33             0          0              0              0            0  ...   \n",
       "\n",
       "    Vasai  Vashi  Vikhroli  Ville Parle East  Ville Parle West  Virar  \\\n",
       "0       0      0         0                 0                 0      0   \n",
       "1       0      0         0                 0                 0      0   \n",
       "2       0      0         0                 0                 0      0   \n",
       "4       0      0         0                 0                 0      0   \n",
       "5       0      0         0                 0                 0      0   \n",
       "7       0      0         0                 0                 0      0   \n",
       "9       0      0         0                 0                 0      0   \n",
       "10      0      0         0                 0                 0      0   \n",
       "13      0      0         0                 0                 0      0   \n",
       "14      0      0         0                 0                 0      0   \n",
       "15      0      0         0                 0                 0      0   \n",
       "18      0      0         0                 0                 0      0   \n",
       "22      0      0         0                 0                 0      0   \n",
       "25      0      0         0                 0                 0      0   \n",
       "26      0      0         0                 0                 0      0   \n",
       "28      0      0         0                 0                 0      0   \n",
       "29      0      0         0                 0                 0      0   \n",
       "30      0      0         0                 0                 0      0   \n",
       "31      0      0         0                 0                 0      0   \n",
       "33      0      0         0                 0                 0      0   \n",
       "\n",
       "    Virar West  Wadala  Worli  other  \n",
       "0            0       0      0      0  \n",
       "1            0       0      0      0  \n",
       "2            0       0      0      0  \n",
       "4            0       0      0      0  \n",
       "5            0       0      0      0  \n",
       "7            0       0      0      0  \n",
       "9            0       0      0      0  \n",
       "10           0       0      0      0  \n",
       "13           0       0      0      0  \n",
       "14           0       0      0      0  \n",
       "15           0       0      0      0  \n",
       "18           0       0      0      0  \n",
       "22           0       0      0      0  \n",
       "25           0       0      0      0  \n",
       "26           0       0      0      0  \n",
       "28           0       0      0      0  \n",
       "29           0       0      0      0  \n",
       "30           0       0      0      0  \n",
       "31           0       0      0      0  \n",
       "33           0       0      0      0  \n",
       "\n",
       "[20 rows x 110 columns]"
      ]
     },
     "execution_count": 53,
     "metadata": {},
     "output_type": "execute_result"
    }
   ],
   "source": [
    "dummies = pd.get_dummies(df12.region)\n",
    "dummies.head(20)"
   ]
  },
  {
   "cell_type": "code",
   "execution_count": 54,
   "metadata": {},
   "outputs": [
    {
     "data": {
      "text/html": [
       "<div>\n",
       "<style scoped>\n",
       "    .dataframe tbody tr th:only-of-type {\n",
       "        vertical-align: middle;\n",
       "    }\n",
       "\n",
       "    .dataframe tbody tr th {\n",
       "        vertical-align: top;\n",
       "    }\n",
       "\n",
       "    .dataframe thead th {\n",
       "        text-align: right;\n",
       "    }\n",
       "</style>\n",
       "<table border=\"1\" class=\"dataframe\">\n",
       "  <thead>\n",
       "    <tr style=\"text-align: right;\">\n",
       "      <th></th>\n",
       "      <th>bhk</th>\n",
       "      <th>area</th>\n",
       "      <th>region</th>\n",
       "      <th>price_lakhs</th>\n",
       "      <th>Agripada</th>\n",
       "      <th>Airoli</th>\n",
       "      <th>Ambernath East</th>\n",
       "      <th>Ambernath West</th>\n",
       "      <th>Andheri East</th>\n",
       "      <th>Andheri West</th>\n",
       "      <th>...</th>\n",
       "      <th>Vangani</th>\n",
       "      <th>Vasai</th>\n",
       "      <th>Vashi</th>\n",
       "      <th>Vikhroli</th>\n",
       "      <th>Ville Parle East</th>\n",
       "      <th>Ville Parle West</th>\n",
       "      <th>Virar</th>\n",
       "      <th>Virar West</th>\n",
       "      <th>Wadala</th>\n",
       "      <th>Worli</th>\n",
       "    </tr>\n",
       "  </thead>\n",
       "  <tbody>\n",
       "    <tr>\n",
       "      <th>0</th>\n",
       "      <td>2</td>\n",
       "      <td>650</td>\n",
       "      <td>Agripada</td>\n",
       "      <td>262.0</td>\n",
       "      <td>1</td>\n",
       "      <td>0</td>\n",
       "      <td>0</td>\n",
       "      <td>0</td>\n",
       "      <td>0</td>\n",
       "      <td>0</td>\n",
       "      <td>...</td>\n",
       "      <td>0</td>\n",
       "      <td>0</td>\n",
       "      <td>0</td>\n",
       "      <td>0</td>\n",
       "      <td>0</td>\n",
       "      <td>0</td>\n",
       "      <td>0</td>\n",
       "      <td>0</td>\n",
       "      <td>0</td>\n",
       "      <td>0</td>\n",
       "    </tr>\n",
       "    <tr>\n",
       "      <th>1</th>\n",
       "      <td>3</td>\n",
       "      <td>1300</td>\n",
       "      <td>Agripada</td>\n",
       "      <td>750.0</td>\n",
       "      <td>1</td>\n",
       "      <td>0</td>\n",
       "      <td>0</td>\n",
       "      <td>0</td>\n",
       "      <td>0</td>\n",
       "      <td>0</td>\n",
       "      <td>...</td>\n",
       "      <td>0</td>\n",
       "      <td>0</td>\n",
       "      <td>0</td>\n",
       "      <td>0</td>\n",
       "      <td>0</td>\n",
       "      <td>0</td>\n",
       "      <td>0</td>\n",
       "      <td>0</td>\n",
       "      <td>0</td>\n",
       "      <td>0</td>\n",
       "    </tr>\n",
       "    <tr>\n",
       "      <th>2</th>\n",
       "      <td>1</td>\n",
       "      <td>803</td>\n",
       "      <td>Agripada</td>\n",
       "      <td>225.0</td>\n",
       "      <td>1</td>\n",
       "      <td>0</td>\n",
       "      <td>0</td>\n",
       "      <td>0</td>\n",
       "      <td>0</td>\n",
       "      <td>0</td>\n",
       "      <td>...</td>\n",
       "      <td>0</td>\n",
       "      <td>0</td>\n",
       "      <td>0</td>\n",
       "      <td>0</td>\n",
       "      <td>0</td>\n",
       "      <td>0</td>\n",
       "      <td>0</td>\n",
       "      <td>0</td>\n",
       "      <td>0</td>\n",
       "      <td>0</td>\n",
       "    </tr>\n",
       "    <tr>\n",
       "      <th>4</th>\n",
       "      <td>1</td>\n",
       "      <td>684</td>\n",
       "      <td>Agripada</td>\n",
       "      <td>170.0</td>\n",
       "      <td>1</td>\n",
       "      <td>0</td>\n",
       "      <td>0</td>\n",
       "      <td>0</td>\n",
       "      <td>0</td>\n",
       "      <td>0</td>\n",
       "      <td>...</td>\n",
       "      <td>0</td>\n",
       "      <td>0</td>\n",
       "      <td>0</td>\n",
       "      <td>0</td>\n",
       "      <td>0</td>\n",
       "      <td>0</td>\n",
       "      <td>0</td>\n",
       "      <td>0</td>\n",
       "      <td>0</td>\n",
       "      <td>0</td>\n",
       "    </tr>\n",
       "    <tr>\n",
       "      <th>5</th>\n",
       "      <td>1</td>\n",
       "      <td>545</td>\n",
       "      <td>Agripada</td>\n",
       "      <td>160.0</td>\n",
       "      <td>1</td>\n",
       "      <td>0</td>\n",
       "      <td>0</td>\n",
       "      <td>0</td>\n",
       "      <td>0</td>\n",
       "      <td>0</td>\n",
       "      <td>...</td>\n",
       "      <td>0</td>\n",
       "      <td>0</td>\n",
       "      <td>0</td>\n",
       "      <td>0</td>\n",
       "      <td>0</td>\n",
       "      <td>0</td>\n",
       "      <td>0</td>\n",
       "      <td>0</td>\n",
       "      <td>0</td>\n",
       "      <td>0</td>\n",
       "    </tr>\n",
       "  </tbody>\n",
       "</table>\n",
       "<p>5 rows × 113 columns</p>\n",
       "</div>"
      ],
      "text/plain": [
       "   bhk  area    region  price_lakhs  Agripada  Airoli  Ambernath East  \\\n",
       "0    2   650  Agripada        262.0         1       0               0   \n",
       "1    3  1300  Agripada        750.0         1       0               0   \n",
       "2    1   803  Agripada        225.0         1       0               0   \n",
       "4    1   684  Agripada        170.0         1       0               0   \n",
       "5    1   545  Agripada        160.0         1       0               0   \n",
       "\n",
       "   Ambernath West  Andheri East  Andheri West  ...  Vangani  Vasai  Vashi  \\\n",
       "0               0             0             0  ...        0      0      0   \n",
       "1               0             0             0  ...        0      0      0   \n",
       "2               0             0             0  ...        0      0      0   \n",
       "4               0             0             0  ...        0      0      0   \n",
       "5               0             0             0  ...        0      0      0   \n",
       "\n",
       "   Vikhroli  Ville Parle East  Ville Parle West  Virar  Virar West  Wadala  \\\n",
       "0         0                 0                 0      0           0       0   \n",
       "1         0                 0                 0      0           0       0   \n",
       "2         0                 0                 0      0           0       0   \n",
       "4         0                 0                 0      0           0       0   \n",
       "5         0                 0                 0      0           0       0   \n",
       "\n",
       "   Worli  \n",
       "0      0  \n",
       "1      0  \n",
       "2      0  \n",
       "4      0  \n",
       "5      0  \n",
       "\n",
       "[5 rows x 113 columns]"
      ]
     },
     "execution_count": 54,
     "metadata": {},
     "output_type": "execute_result"
    }
   ],
   "source": [
    "# Avoiding dummy variable trap for categorical featue 'region'\n",
    "df13 = pd.concat([df12,dummies.drop('other',axis='columns')],axis='columns')\n",
    "df13.head()"
   ]
  },
  {
   "cell_type": "code",
   "execution_count": 55,
   "metadata": {},
   "outputs": [
    {
     "data": {
      "text/html": [
       "<div>\n",
       "<style scoped>\n",
       "    .dataframe tbody tr th:only-of-type {\n",
       "        vertical-align: middle;\n",
       "    }\n",
       "\n",
       "    .dataframe tbody tr th {\n",
       "        vertical-align: top;\n",
       "    }\n",
       "\n",
       "    .dataframe thead th {\n",
       "        text-align: right;\n",
       "    }\n",
       "</style>\n",
       "<table border=\"1\" class=\"dataframe\">\n",
       "  <thead>\n",
       "    <tr style=\"text-align: right;\">\n",
       "      <th></th>\n",
       "      <th>bhk</th>\n",
       "      <th>area</th>\n",
       "      <th>price_lakhs</th>\n",
       "      <th>Agripada</th>\n",
       "      <th>Airoli</th>\n",
       "      <th>Ambernath East</th>\n",
       "      <th>Ambernath West</th>\n",
       "      <th>Andheri East</th>\n",
       "      <th>Andheri West</th>\n",
       "      <th>Anjurdive</th>\n",
       "      <th>...</th>\n",
       "      <th>Vangani</th>\n",
       "      <th>Vasai</th>\n",
       "      <th>Vashi</th>\n",
       "      <th>Vikhroli</th>\n",
       "      <th>Ville Parle East</th>\n",
       "      <th>Ville Parle West</th>\n",
       "      <th>Virar</th>\n",
       "      <th>Virar West</th>\n",
       "      <th>Wadala</th>\n",
       "      <th>Worli</th>\n",
       "    </tr>\n",
       "  </thead>\n",
       "  <tbody>\n",
       "    <tr>\n",
       "      <th>0</th>\n",
       "      <td>2</td>\n",
       "      <td>650</td>\n",
       "      <td>262.0</td>\n",
       "      <td>1</td>\n",
       "      <td>0</td>\n",
       "      <td>0</td>\n",
       "      <td>0</td>\n",
       "      <td>0</td>\n",
       "      <td>0</td>\n",
       "      <td>0</td>\n",
       "      <td>...</td>\n",
       "      <td>0</td>\n",
       "      <td>0</td>\n",
       "      <td>0</td>\n",
       "      <td>0</td>\n",
       "      <td>0</td>\n",
       "      <td>0</td>\n",
       "      <td>0</td>\n",
       "      <td>0</td>\n",
       "      <td>0</td>\n",
       "      <td>0</td>\n",
       "    </tr>\n",
       "    <tr>\n",
       "      <th>1</th>\n",
       "      <td>3</td>\n",
       "      <td>1300</td>\n",
       "      <td>750.0</td>\n",
       "      <td>1</td>\n",
       "      <td>0</td>\n",
       "      <td>0</td>\n",
       "      <td>0</td>\n",
       "      <td>0</td>\n",
       "      <td>0</td>\n",
       "      <td>0</td>\n",
       "      <td>...</td>\n",
       "      <td>0</td>\n",
       "      <td>0</td>\n",
       "      <td>0</td>\n",
       "      <td>0</td>\n",
       "      <td>0</td>\n",
       "      <td>0</td>\n",
       "      <td>0</td>\n",
       "      <td>0</td>\n",
       "      <td>0</td>\n",
       "      <td>0</td>\n",
       "    </tr>\n",
       "    <tr>\n",
       "      <th>2</th>\n",
       "      <td>1</td>\n",
       "      <td>803</td>\n",
       "      <td>225.0</td>\n",
       "      <td>1</td>\n",
       "      <td>0</td>\n",
       "      <td>0</td>\n",
       "      <td>0</td>\n",
       "      <td>0</td>\n",
       "      <td>0</td>\n",
       "      <td>0</td>\n",
       "      <td>...</td>\n",
       "      <td>0</td>\n",
       "      <td>0</td>\n",
       "      <td>0</td>\n",
       "      <td>0</td>\n",
       "      <td>0</td>\n",
       "      <td>0</td>\n",
       "      <td>0</td>\n",
       "      <td>0</td>\n",
       "      <td>0</td>\n",
       "      <td>0</td>\n",
       "    </tr>\n",
       "    <tr>\n",
       "      <th>4</th>\n",
       "      <td>1</td>\n",
       "      <td>684</td>\n",
       "      <td>170.0</td>\n",
       "      <td>1</td>\n",
       "      <td>0</td>\n",
       "      <td>0</td>\n",
       "      <td>0</td>\n",
       "      <td>0</td>\n",
       "      <td>0</td>\n",
       "      <td>0</td>\n",
       "      <td>...</td>\n",
       "      <td>0</td>\n",
       "      <td>0</td>\n",
       "      <td>0</td>\n",
       "      <td>0</td>\n",
       "      <td>0</td>\n",
       "      <td>0</td>\n",
       "      <td>0</td>\n",
       "      <td>0</td>\n",
       "      <td>0</td>\n",
       "      <td>0</td>\n",
       "    </tr>\n",
       "    <tr>\n",
       "      <th>5</th>\n",
       "      <td>1</td>\n",
       "      <td>545</td>\n",
       "      <td>160.0</td>\n",
       "      <td>1</td>\n",
       "      <td>0</td>\n",
       "      <td>0</td>\n",
       "      <td>0</td>\n",
       "      <td>0</td>\n",
       "      <td>0</td>\n",
       "      <td>0</td>\n",
       "      <td>...</td>\n",
       "      <td>0</td>\n",
       "      <td>0</td>\n",
       "      <td>0</td>\n",
       "      <td>0</td>\n",
       "      <td>0</td>\n",
       "      <td>0</td>\n",
       "      <td>0</td>\n",
       "      <td>0</td>\n",
       "      <td>0</td>\n",
       "      <td>0</td>\n",
       "    </tr>\n",
       "  </tbody>\n",
       "</table>\n",
       "<p>5 rows × 112 columns</p>\n",
       "</div>"
      ],
      "text/plain": [
       "   bhk  area  price_lakhs  Agripada  Airoli  Ambernath East  Ambernath West  \\\n",
       "0    2   650        262.0         1       0               0               0   \n",
       "1    3  1300        750.0         1       0               0               0   \n",
       "2    1   803        225.0         1       0               0               0   \n",
       "4    1   684        170.0         1       0               0               0   \n",
       "5    1   545        160.0         1       0               0               0   \n",
       "\n",
       "   Andheri East  Andheri West  Anjurdive  ...  Vangani  Vasai  Vashi  \\\n",
       "0             0             0          0  ...        0      0      0   \n",
       "1             0             0          0  ...        0      0      0   \n",
       "2             0             0          0  ...        0      0      0   \n",
       "4             0             0          0  ...        0      0      0   \n",
       "5             0             0          0  ...        0      0      0   \n",
       "\n",
       "   Vikhroli  Ville Parle East  Ville Parle West  Virar  Virar West  Wadala  \\\n",
       "0         0                 0                 0      0           0       0   \n",
       "1         0                 0                 0      0           0       0   \n",
       "2         0                 0                 0      0           0       0   \n",
       "4         0                 0                 0      0           0       0   \n",
       "5         0                 0                 0      0           0       0   \n",
       "\n",
       "   Worli  \n",
       "0      0  \n",
       "1      0  \n",
       "2      0  \n",
       "4      0  \n",
       "5      0  \n",
       "\n",
       "[5 rows x 112 columns]"
      ]
     },
     "execution_count": 55,
     "metadata": {},
     "output_type": "execute_result"
    }
   ],
   "source": [
    "df14 = df13.drop('region',axis='columns')\n",
    "df14.head()"
   ]
  },
  {
   "cell_type": "code",
   "execution_count": 57,
   "metadata": {},
   "outputs": [
    {
     "data": {
      "text/plain": [
       "(41955, 112)"
      ]
     },
     "execution_count": 57,
     "metadata": {},
     "output_type": "execute_result"
    }
   ],
   "source": [
    "df14.shape"
   ]
  },
  {
   "cell_type": "markdown",
   "metadata": {},
   "source": [
    "# Model Training using Linear Regression"
   ]
  },
  {
   "cell_type": "code",
   "execution_count": 85,
   "metadata": {},
   "outputs": [
    {
     "data": {
      "text/plain": [
       "(41955,)"
      ]
     },
     "execution_count": 85,
     "metadata": {},
     "output_type": "execute_result"
    }
   ],
   "source": [
    "y = df14['price_lakhs']\n",
    "y.shape"
   ]
  },
  {
   "cell_type": "code",
   "execution_count": 86,
   "metadata": {},
   "outputs": [],
   "source": [
    "log_transform_y = np.log(y)"
   ]
  },
  {
   "cell_type": "code",
   "execution_count": 87,
   "metadata": {},
   "outputs": [
    {
     "data": {
      "text/plain": [
       "0    262.0\n",
       "1    750.0\n",
       "2    225.0\n",
       "4    170.0\n",
       "5    160.0\n",
       "Name: price_lakhs, dtype: float64"
      ]
     },
     "execution_count": 87,
     "metadata": {},
     "output_type": "execute_result"
    }
   ],
   "source": [
    "y.head()"
   ]
  },
  {
   "cell_type": "code",
   "execution_count": 88,
   "metadata": {},
   "outputs": [
    {
     "data": {
      "text/html": [
       "<div>\n",
       "<style scoped>\n",
       "    .dataframe tbody tr th:only-of-type {\n",
       "        vertical-align: middle;\n",
       "    }\n",
       "\n",
       "    .dataframe tbody tr th {\n",
       "        vertical-align: top;\n",
       "    }\n",
       "\n",
       "    .dataframe thead th {\n",
       "        text-align: right;\n",
       "    }\n",
       "</style>\n",
       "<table border=\"1\" class=\"dataframe\">\n",
       "  <thead>\n",
       "    <tr style=\"text-align: right;\">\n",
       "      <th></th>\n",
       "      <th>bhk</th>\n",
       "      <th>area</th>\n",
       "      <th>Agripada</th>\n",
       "      <th>Airoli</th>\n",
       "      <th>Ambernath East</th>\n",
       "      <th>Ambernath West</th>\n",
       "      <th>Andheri East</th>\n",
       "      <th>Andheri West</th>\n",
       "      <th>Anjurdive</th>\n",
       "      <th>Badlapur East</th>\n",
       "      <th>...</th>\n",
       "      <th>Vangani</th>\n",
       "      <th>Vasai</th>\n",
       "      <th>Vashi</th>\n",
       "      <th>Vikhroli</th>\n",
       "      <th>Ville Parle East</th>\n",
       "      <th>Ville Parle West</th>\n",
       "      <th>Virar</th>\n",
       "      <th>Virar West</th>\n",
       "      <th>Wadala</th>\n",
       "      <th>Worli</th>\n",
       "    </tr>\n",
       "  </thead>\n",
       "  <tbody>\n",
       "    <tr>\n",
       "      <th>0</th>\n",
       "      <td>2</td>\n",
       "      <td>650</td>\n",
       "      <td>1</td>\n",
       "      <td>0</td>\n",
       "      <td>0</td>\n",
       "      <td>0</td>\n",
       "      <td>0</td>\n",
       "      <td>0</td>\n",
       "      <td>0</td>\n",
       "      <td>0</td>\n",
       "      <td>...</td>\n",
       "      <td>0</td>\n",
       "      <td>0</td>\n",
       "      <td>0</td>\n",
       "      <td>0</td>\n",
       "      <td>0</td>\n",
       "      <td>0</td>\n",
       "      <td>0</td>\n",
       "      <td>0</td>\n",
       "      <td>0</td>\n",
       "      <td>0</td>\n",
       "    </tr>\n",
       "    <tr>\n",
       "      <th>1</th>\n",
       "      <td>3</td>\n",
       "      <td>1300</td>\n",
       "      <td>1</td>\n",
       "      <td>0</td>\n",
       "      <td>0</td>\n",
       "      <td>0</td>\n",
       "      <td>0</td>\n",
       "      <td>0</td>\n",
       "      <td>0</td>\n",
       "      <td>0</td>\n",
       "      <td>...</td>\n",
       "      <td>0</td>\n",
       "      <td>0</td>\n",
       "      <td>0</td>\n",
       "      <td>0</td>\n",
       "      <td>0</td>\n",
       "      <td>0</td>\n",
       "      <td>0</td>\n",
       "      <td>0</td>\n",
       "      <td>0</td>\n",
       "      <td>0</td>\n",
       "    </tr>\n",
       "    <tr>\n",
       "      <th>2</th>\n",
       "      <td>1</td>\n",
       "      <td>803</td>\n",
       "      <td>1</td>\n",
       "      <td>0</td>\n",
       "      <td>0</td>\n",
       "      <td>0</td>\n",
       "      <td>0</td>\n",
       "      <td>0</td>\n",
       "      <td>0</td>\n",
       "      <td>0</td>\n",
       "      <td>...</td>\n",
       "      <td>0</td>\n",
       "      <td>0</td>\n",
       "      <td>0</td>\n",
       "      <td>0</td>\n",
       "      <td>0</td>\n",
       "      <td>0</td>\n",
       "      <td>0</td>\n",
       "      <td>0</td>\n",
       "      <td>0</td>\n",
       "      <td>0</td>\n",
       "    </tr>\n",
       "    <tr>\n",
       "      <th>4</th>\n",
       "      <td>1</td>\n",
       "      <td>684</td>\n",
       "      <td>1</td>\n",
       "      <td>0</td>\n",
       "      <td>0</td>\n",
       "      <td>0</td>\n",
       "      <td>0</td>\n",
       "      <td>0</td>\n",
       "      <td>0</td>\n",
       "      <td>0</td>\n",
       "      <td>...</td>\n",
       "      <td>0</td>\n",
       "      <td>0</td>\n",
       "      <td>0</td>\n",
       "      <td>0</td>\n",
       "      <td>0</td>\n",
       "      <td>0</td>\n",
       "      <td>0</td>\n",
       "      <td>0</td>\n",
       "      <td>0</td>\n",
       "      <td>0</td>\n",
       "    </tr>\n",
       "    <tr>\n",
       "      <th>5</th>\n",
       "      <td>1</td>\n",
       "      <td>545</td>\n",
       "      <td>1</td>\n",
       "      <td>0</td>\n",
       "      <td>0</td>\n",
       "      <td>0</td>\n",
       "      <td>0</td>\n",
       "      <td>0</td>\n",
       "      <td>0</td>\n",
       "      <td>0</td>\n",
       "      <td>...</td>\n",
       "      <td>0</td>\n",
       "      <td>0</td>\n",
       "      <td>0</td>\n",
       "      <td>0</td>\n",
       "      <td>0</td>\n",
       "      <td>0</td>\n",
       "      <td>0</td>\n",
       "      <td>0</td>\n",
       "      <td>0</td>\n",
       "      <td>0</td>\n",
       "    </tr>\n",
       "  </tbody>\n",
       "</table>\n",
       "<p>5 rows × 111 columns</p>\n",
       "</div>"
      ],
      "text/plain": [
       "   bhk  area  Agripada  Airoli  Ambernath East  Ambernath West  Andheri East  \\\n",
       "0    2   650         1       0               0               0             0   \n",
       "1    3  1300         1       0               0               0             0   \n",
       "2    1   803         1       0               0               0             0   \n",
       "4    1   684         1       0               0               0             0   \n",
       "5    1   545         1       0               0               0             0   \n",
       "\n",
       "   Andheri West  Anjurdive  Badlapur East  ...  Vangani  Vasai  Vashi  \\\n",
       "0             0          0              0  ...        0      0      0   \n",
       "1             0          0              0  ...        0      0      0   \n",
       "2             0          0              0  ...        0      0      0   \n",
       "4             0          0              0  ...        0      0      0   \n",
       "5             0          0              0  ...        0      0      0   \n",
       "\n",
       "   Vikhroli  Ville Parle East  Ville Parle West  Virar  Virar West  Wadala  \\\n",
       "0         0                 0                 0      0           0       0   \n",
       "1         0                 0                 0      0           0       0   \n",
       "2         0                 0                 0      0           0       0   \n",
       "4         0                 0                 0      0           0       0   \n",
       "5         0                 0                 0      0           0       0   \n",
       "\n",
       "   Worli  \n",
       "0      0  \n",
       "1      0  \n",
       "2      0  \n",
       "4      0  \n",
       "5      0  \n",
       "\n",
       "[5 rows x 111 columns]"
      ]
     },
     "execution_count": 88,
     "metadata": {},
     "output_type": "execute_result"
    }
   ],
   "source": [
    "X = df14.drop(['price_lakhs'],axis='columns')\n",
    "X.head()"
   ]
  },
  {
   "cell_type": "code",
   "execution_count": 89,
   "metadata": {},
   "outputs": [
    {
     "data": {
      "text/plain": [
       "(41955, 111)"
      ]
     },
     "execution_count": 89,
     "metadata": {},
     "output_type": "execute_result"
    }
   ],
   "source": [
    "X.shape"
   ]
  },
  {
   "cell_type": "code",
   "execution_count": 90,
   "metadata": {},
   "outputs": [
    {
     "name": "stdout",
     "output_type": "stream",
     "text": [
      "                            OLS Regression Results                            \n",
      "==============================================================================\n",
      "Dep. Variable:            price_lakhs   R-squared:                       0.841\n",
      "Model:                            OLS   Adj. R-squared:                  0.841\n",
      "Method:                 Least Squares   F-statistic:                     1999.\n",
      "Date:                Fri, 24 May 2024   Prob (F-statistic):               0.00\n",
      "Time:                        00:50:35   Log-Likelihood:            -2.4430e+05\n",
      "No. Observations:               41955   AIC:                         4.888e+05\n",
      "Df Residuals:                   41843   BIC:                         4.898e+05\n",
      "Df Model:                         111                                         \n",
      "Covariance Type:            nonrobust                                         \n",
      "========================================================================================\n",
      "                           coef    std err          t      P>|t|      [0.025      0.975]\n",
      "----------------------------------------------------------------------------------------\n",
      "const                 -144.3647      5.616    -25.704      0.000    -155.373    -133.356\n",
      "bhk                     -3.2554      0.754     -4.320      0.000      -4.732      -1.778\n",
      "area                     0.2976      0.001    231.725      0.000       0.295       0.300\n",
      "Agripada               270.4374     15.519     17.426      0.000     240.019     300.856\n",
      "Airoli                  17.4470      7.926      2.201      0.028       1.912      32.982\n",
      "Ambernath East         -35.7897      7.741     -4.623      0.000     -50.963     -20.616\n",
      "Ambernath West         -22.5765      8.580     -2.631      0.009     -39.393      -5.760\n",
      "Andheri East           109.6599      6.501     16.868      0.000      96.918     122.402\n",
      "Andheri West           117.9968      6.026     19.581      0.000     106.186     129.808\n",
      "Anjurdive               33.5116      9.278      3.612      0.000      15.326      51.697\n",
      "Badlapur East          -11.7233      7.557     -1.551      0.121     -26.536       3.089\n",
      "Badlapur West          -12.2728      8.195     -1.498      0.134     -28.336       3.791\n",
      "Bandra East            364.8398      8.756     41.666      0.000     347.677     382.002\n",
      "Bandra Kurla Complex   266.7069     13.320     20.022      0.000     240.599     292.815\n",
      "Bandra West            443.7927      9.465     46.889      0.000     425.242     462.344\n",
      "Belapur                -50.8119     17.964     -2.828      0.005     -86.023     -15.601\n",
      "Bhandup East            54.3439      9.706      5.599      0.000      35.319      73.368\n",
      "Bhandup West            78.6155      7.037     11.171      0.000      64.822      92.409\n",
      "Bhayandar East          13.4897      6.712      2.010      0.044       0.335      26.645\n",
      "Bhayandar West         -13.2762     10.663     -1.245      0.213     -34.175       7.623\n",
      "Bhiwandi                10.5342      6.906      1.525      0.127      -3.002      24.071\n",
      "Boisar                 -17.0772      8.998     -1.898      0.058     -34.713       0.558\n",
      "Borivali East           90.7404      6.465     14.036      0.000      78.069     103.412\n",
      "Borivali West          104.9824      6.689     15.695      0.000      91.872     118.093\n",
      "Byculla                323.6253      8.084     40.031      0.000     307.780     339.471\n",
      "Chembur                106.5971      6.199     17.196      0.000      94.447     118.747\n",
      "Colaba                 402.9942     19.135     21.061      0.000     365.489     440.499\n",
      "Dadar East             309.4702     13.428     23.046      0.000     283.150     335.790\n",
      "Dadar West             340.4939     13.184     25.827      0.000     314.654     366.334\n",
      "Dahisar                 63.9486      6.626      9.651      0.000      50.961      76.936\n",
      "Deonar                 116.4696     10.827     10.758      0.000      95.249     137.690\n",
      "Diva                    18.3722     15.301      1.201      0.230     -11.617      48.362\n",
      "Dombivali               -1.6532      5.898     -0.280      0.779     -13.213       9.907\n",
      "Dronagiri              -62.4580     14.089     -4.433      0.000     -90.074     -34.842\n",
      "Ghansoli               -19.7899      7.813     -2.533      0.011     -35.103      -4.477\n",
      "Ghatkopar East         112.8068      6.709     16.815      0.000      99.657     125.956\n",
      "Ghatkopar West          87.2471     10.231      8.528      0.000      67.195     107.299\n",
      "Girgaon                201.8168     22.581      8.938      0.000     157.558     246.076\n",
      "Goregaon East           64.9432      6.846      9.486      0.000      51.524      78.362\n",
      "Goregaon West          100.8233      6.709     15.028      0.000      87.674     113.973\n",
      "Jogeshwari East        108.0678      9.738     11.098      0.000      88.982     127.154\n",
      "Jogeshwari West         89.2565      7.445     11.988      0.000      74.664     103.849\n",
      "Juhu                   566.4654     10.825     52.329      0.000     545.248     587.683\n",
      "Juinagar                87.0328     20.632      4.218      0.000      46.594     127.471\n",
      "Kalamboli              -46.1219      8.896     -5.185      0.000     -63.558     -28.686\n",
      "Kalwa                   26.3978     23.381      1.129      0.259     -19.429      72.225\n",
      "Kalyan East             10.1472      8.082      1.256      0.209      -5.693      25.988\n",
      "Kalyan West            -19.3559      6.182     -3.131      0.002     -31.473      -7.238\n",
      "Kamothe                -24.4219      7.075     -3.452      0.001     -38.289     -10.555\n",
      "Kandivali East          72.0968      5.931     12.156      0.000      60.472      83.722\n",
      "Kandivali West          89.6462      6.296     14.238      0.000      77.305     101.987\n",
      "Kanjurmarg             105.1573      6.473     16.246      0.000      92.471     117.844\n",
      "Karanjade              -26.0288      8.802     -2.957      0.003     -43.280      -8.778\n",
      "Karjat                  10.4532      7.030      1.487      0.137      -3.326      24.233\n",
      "Kasheli                 -6.6814     21.861     -0.306      0.760     -49.529      36.166\n",
      "Khar                   455.1985     13.690     33.251      0.000     428.366     482.031\n",
      "Kharghar               -59.8680      6.040     -9.912      0.000     -71.707     -48.029\n",
      "Khopoli                -48.2722     14.564     -3.315      0.001     -76.817     -19.727\n",
      "Koper Khairane         -15.1942      8.247     -1.842      0.065     -31.358       0.969\n",
      "Kurla                   69.4673      7.735      8.981      0.000      54.307      84.628\n",
      "Lower Parel            476.6795      8.424     56.583      0.000     460.167     493.192\n",
      "Mahalaxmi              478.4938     11.747     40.732      0.000     455.469     501.519\n",
      "Mahim                  355.4882     16.197     21.948      0.000     323.742     387.235\n",
      "Malad East              77.5013      6.586     11.768      0.000      64.593      90.409\n",
      "Malad West              77.2458      6.289     12.283      0.000      64.920      89.572\n",
      "Marine Lines           448.0556     18.337     24.435      0.000     412.115     483.996\n",
      "Matunga                300.5667     14.406     20.864      0.000     272.331     328.803\n",
      "Mazagaon               169.6898     15.722     10.793      0.000     138.875     200.505\n",
      "Mazgaon                227.1264     23.386      9.712      0.000     181.290     272.963\n",
      "Mira Road East          -7.3319      5.651     -1.297      0.194     -18.408       3.745\n",
      "Mulund East             94.9242      9.804      9.682      0.000      75.709     114.140\n",
      "Mulund West            100.6586      6.344     15.867      0.000      88.225     113.093\n",
      "Nahur East              56.9552     11.147      5.109      0.000      35.107      78.803\n",
      "Naigaon East             5.4917      6.419      0.856      0.392      -7.089      18.072\n",
      "Nala Sopara              6.3636      7.720      0.824      0.410      -8.767      21.494\n",
      "Nalasopara East          1.4382     22.579      0.064      0.949     -42.818      45.694\n",
      "Napeansea Road        1097.9245     24.347     45.094      0.000    1050.203    1145.646\n",
      "Neral                  -21.8467      8.430     -2.592      0.010     -38.370      -5.324\n",
      "Nerul                   54.0221      8.533      6.331      0.000      37.298      70.746\n",
      "Nilje Gaon             -43.4082     23.381     -1.857      0.063     -89.236       2.419\n",
      "Palghar                 30.2707     10.353      2.924      0.003       9.979      50.562\n",
      "Panvel                  -6.7625      6.300     -1.073      0.283     -19.111       5.586\n",
      "Parel                  314.8827      9.537     33.018      0.000     296.191     333.575\n",
      "Powai                  143.1627      6.363     22.500      0.000     130.691     155.634\n",
      "Prabhadevi             528.7975     10.482     50.450      0.000     508.253     549.342\n",
      "Rasayani                50.7361     13.673      3.711      0.000      23.938      77.535\n",
      "Sanpada                 36.8941      8.882      4.154      0.000      19.486      54.302\n",
      "Santacruz East         128.8846      7.555     17.060      0.000     114.077     143.692\n",
      "Santacruz West         544.4822     11.680     46.616      0.000     521.589     567.376\n",
      "Seawoods                25.4984      7.575      3.366      0.001      10.650      40.346\n",
      "Sector 21 Kamothe      -98.5417     24.285     -4.058      0.000    -146.140     -50.943\n",
      "Sewri                  204.6938     14.569     14.050      0.000     176.138     233.250\n",
      "Shil Phata              14.1767      9.292      1.526      0.127      -4.036      32.389\n",
      "Sion                   132.5279      8.080     16.402      0.000     116.691     148.365\n",
      "Taloja                   3.9936      6.621      0.603      0.546      -8.984      16.971\n",
      "Taloje                 -29.3512     22.579     -1.300      0.194     -73.606      14.904\n",
      "Tardeo                 518.9328     21.228     24.445      0.000     477.325     560.541\n",
      "Thane East              79.0256      9.404      8.403      0.000      60.593      97.458\n",
      "Thane West              32.0937      5.678      5.653      0.000      20.965      43.222\n",
      "Titwala                -25.2323     11.381     -2.217      0.027     -47.539      -2.926\n",
      "Ulwe                   -53.0929      6.074     -8.741      0.000     -64.999     -41.187\n",
      "Umroli                  49.5922     20.626      2.404      0.016       9.165      90.019\n",
      "Vangani                 37.8238     26.485      1.428      0.153     -14.087      89.735\n",
      "Vasai                    4.5790      6.884      0.665      0.506      -8.915      18.073\n",
      "Vashi                   -1.5243     12.852     -0.119      0.906     -26.714      23.666\n",
      "Vikhroli                85.5951      6.430     13.312      0.000      72.993      98.197\n",
      "Ville Parle East       267.3671     16.195     16.509      0.000     235.624     299.110\n",
      "Ville Parle West       277.8467     13.305     20.882      0.000     251.768     303.926\n",
      "Virar                    6.2868      6.164      1.020      0.308      -5.795      18.369\n",
      "Virar West            -100.3336     20.090     -4.994      0.000    -139.710     -60.957\n",
      "Wadala                 187.0989      6.699     27.928      0.000     173.968     200.230\n",
      "Worli                  588.4865      9.908     59.397      0.000     569.067     607.906\n",
      "==============================================================================\n",
      "Omnibus:                    52427.799   Durbin-Watson:                   1.220\n",
      "Prob(Omnibus):                  0.000   Jarque-Bera (JB):         48123854.693\n",
      "Skew:                           6.165   Prob(JB):                         0.00\n",
      "Kurtosis:                     168.459   Cond. No.                     1.43e+05\n",
      "==============================================================================\n",
      "\n",
      "Notes:\n",
      "[1] Standard Errors assume that the covariance matrix of the errors is correctly specified.\n",
      "[2] The condition number is large, 1.43e+05. This might indicate that there are\n",
      "strong multicollinearity or other numerical problems.\n"
     ]
    }
   ],
   "source": [
    "import statsmodels.api as sm\n",
    "from scipy.stats import f_oneway\n",
    "import scipy.stats \n",
    "\n",
    "X_scaled = sm.add_constant(X)\n",
    "\n",
    "model = sm.OLS(y, X_scaled).fit()\n",
    "\n",
    "print(model.summary())"
   ]
  },
  {
   "cell_type": "code",
   "execution_count": 96,
   "metadata": {},
   "outputs": [],
   "source": [
    "from sklearn.model_selection import train_test_split\n",
    "X_train, X_test, y_train, y_test = train_test_split(X, log_transform_y, test_size=0.2, random_state=10)"
   ]
  },
  {
   "cell_type": "code",
   "execution_count": 97,
   "metadata": {},
   "outputs": [
    {
     "data": {
      "text/plain": [
       "0.9082117090956838"
      ]
     },
     "execution_count": 97,
     "metadata": {},
     "output_type": "execute_result"
    }
   ],
   "source": [
    "from sklearn.linear_model import LinearRegression\n",
    "lr_clf = LinearRegression()\n",
    "lr_clf.fit(X_train,y_train)\n",
    "lr_clf.score(X_test,y_test)"
   ]
  },
  {
   "cell_type": "code",
   "execution_count": 98,
   "metadata": {},
   "outputs": [],
   "source": [
    "y_pred = lr_clf.predict(X_test)"
   ]
  },
  {
   "cell_type": "code",
   "execution_count": 149,
   "metadata": {},
   "outputs": [
    {
     "data": {
      "text/html": [
       "<div>\n",
       "<style scoped>\n",
       "    .dataframe tbody tr th:only-of-type {\n",
       "        vertical-align: middle;\n",
       "    }\n",
       "\n",
       "    .dataframe tbody tr th {\n",
       "        vertical-align: top;\n",
       "    }\n",
       "\n",
       "    .dataframe thead th {\n",
       "        text-align: right;\n",
       "    }\n",
       "</style>\n",
       "<table border=\"1\" class=\"dataframe\">\n",
       "  <thead>\n",
       "    <tr style=\"text-align: right;\">\n",
       "      <th></th>\n",
       "      <th>Coefficients</th>\n",
       "    </tr>\n",
       "  </thead>\n",
       "  <tbody>\n",
       "    <tr>\n",
       "      <th>bhk</th>\n",
       "      <td>0.401609</td>\n",
       "    </tr>\n",
       "    <tr>\n",
       "      <th>area</th>\n",
       "      <td>0.000404</td>\n",
       "    </tr>\n",
       "    <tr>\n",
       "      <th>Agripada</th>\n",
       "      <td>1.221451</td>\n",
       "    </tr>\n",
       "    <tr>\n",
       "      <th>Airoli</th>\n",
       "      <td>0.361725</td>\n",
       "    </tr>\n",
       "    <tr>\n",
       "      <th>Ambernath East</th>\n",
       "      <td>-0.599761</td>\n",
       "    </tr>\n",
       "    <tr>\n",
       "      <th>...</th>\n",
       "      <td>...</td>\n",
       "    </tr>\n",
       "    <tr>\n",
       "      <th>Ville Parle West</th>\n",
       "      <td>1.326262</td>\n",
       "    </tr>\n",
       "    <tr>\n",
       "      <th>Virar</th>\n",
       "      <td>-0.406601</td>\n",
       "    </tr>\n",
       "    <tr>\n",
       "      <th>Virar West</th>\n",
       "      <td>-0.819902</td>\n",
       "    </tr>\n",
       "    <tr>\n",
       "      <th>Wadala</th>\n",
       "      <td>1.048600</td>\n",
       "    </tr>\n",
       "    <tr>\n",
       "      <th>Worli</th>\n",
       "      <td>1.434834</td>\n",
       "    </tr>\n",
       "  </tbody>\n",
       "</table>\n",
       "<p>111 rows × 1 columns</p>\n",
       "</div>"
      ],
      "text/plain": [
       "                  Coefficients\n",
       "bhk                   0.401609\n",
       "area                  0.000404\n",
       "Agripada              1.221451\n",
       "Airoli                0.361725\n",
       "Ambernath East       -0.599761\n",
       "...                        ...\n",
       "Ville Parle West      1.326262\n",
       "Virar                -0.406601\n",
       "Virar West           -0.819902\n",
       "Wadala                1.048600\n",
       "Worli                 1.434834\n",
       "\n",
       "[111 rows x 1 columns]"
      ]
     },
     "execution_count": 149,
     "metadata": {},
     "output_type": "execute_result"
    }
   ],
   "source": [
    "cdf = pd.DataFrame(data = lr_clf.coef_, index = X.columns, columns = ['Coefficients'])\n",
    "cdf"
   ]
  },
  {
   "cell_type": "raw",
   "metadata": {},
   "source": [
    "arr = [i for i in y_pred if i<0]\n",
    "#print(arr)\n",
    "print(len(arr))\n",
    "print(len(y_pred))"
   ]
  },
  {
   "cell_type": "code",
   "execution_count": 100,
   "metadata": {},
   "outputs": [
    {
     "data": {
      "text/html": [
       "<div>\n",
       "<style scoped>\n",
       "    .dataframe tbody tr th:only-of-type {\n",
       "        vertical-align: middle;\n",
       "    }\n",
       "\n",
       "    .dataframe tbody tr th {\n",
       "        vertical-align: top;\n",
       "    }\n",
       "\n",
       "    .dataframe thead th {\n",
       "        text-align: right;\n",
       "    }\n",
       "</style>\n",
       "<table border=\"1\" class=\"dataframe\">\n",
       "  <thead>\n",
       "    <tr style=\"text-align: right;\">\n",
       "      <th></th>\n",
       "      <th>Actual</th>\n",
       "      <th>Predicted</th>\n",
       "    </tr>\n",
       "  </thead>\n",
       "  <tbody>\n",
       "    <tr>\n",
       "      <th>11558</th>\n",
       "      <td>4.11</td>\n",
       "      <td>4.06</td>\n",
       "    </tr>\n",
       "    <tr>\n",
       "      <th>23106</th>\n",
       "      <td>3.83</td>\n",
       "      <td>4.15</td>\n",
       "    </tr>\n",
       "    <tr>\n",
       "      <th>11771</th>\n",
       "      <td>3.85</td>\n",
       "      <td>3.78</td>\n",
       "    </tr>\n",
       "    <tr>\n",
       "      <th>47100</th>\n",
       "      <td>4.74</td>\n",
       "      <td>4.65</td>\n",
       "    </tr>\n",
       "    <tr>\n",
       "      <th>41789</th>\n",
       "      <td>5.74</td>\n",
       "      <td>5.56</td>\n",
       "    </tr>\n",
       "    <tr>\n",
       "      <th>39616</th>\n",
       "      <td>5.89</td>\n",
       "      <td>5.79</td>\n",
       "    </tr>\n",
       "    <tr>\n",
       "      <th>17905</th>\n",
       "      <td>4.06</td>\n",
       "      <td>4.48</td>\n",
       "    </tr>\n",
       "    <tr>\n",
       "      <th>44079</th>\n",
       "      <td>4.39</td>\n",
       "      <td>4.71</td>\n",
       "    </tr>\n",
       "    <tr>\n",
       "      <th>29843</th>\n",
       "      <td>4.15</td>\n",
       "      <td>4.07</td>\n",
       "    </tr>\n",
       "    <tr>\n",
       "      <th>7641</th>\n",
       "      <td>5.87</td>\n",
       "      <td>5.81</td>\n",
       "    </tr>\n",
       "  </tbody>\n",
       "</table>\n",
       "</div>"
      ],
      "text/plain": [
       "       Actual  Predicted\n",
       "11558    4.11       4.06\n",
       "23106    3.83       4.15\n",
       "11771    3.85       3.78\n",
       "47100    4.74       4.65\n",
       "41789    5.74       5.56\n",
       "39616    5.89       5.79\n",
       "17905    4.06       4.48\n",
       "44079    4.39       4.71\n",
       "29843    4.15       4.07\n",
       "7641     5.87       5.81"
      ]
     },
     "execution_count": 100,
     "metadata": {},
     "output_type": "execute_result"
    }
   ],
   "source": [
    "df = pd.DataFrame({'Actual': np.round(y_test, 2), 'Predicted': np.round(y_pred, 2)})\n",
    "df.head(10)"
   ]
  },
  {
   "cell_type": "code",
   "execution_count": 150,
   "metadata": {},
   "outputs": [
    {
     "data": {
      "image/png": "[encoded data removed]",
      "text/plain": [
       "<Figure size 2500x1000 with 1 Axes>"
      ]
     },
     "metadata": {},
     "output_type": "display_data"
    }
   ],
   "source": [
    "residuals = y_pred - y_test\n",
    "plt.figure(figsize=(25,10))\n",
    "plt.scatter(y_pred, residuals)\n",
    "plt.axhline(y=0, color='r', linestyle='--')\n",
    "plt.xlabel('Predicted Values')\n",
    "plt.ylabel('Residuals (Predicted - y_test)')\n",
    "plt.title('Residual Plot')\n",
    "plt.show()"
   ]
  },
  {
   "cell_type": "code",
   "execution_count": 101,
   "metadata": {},
   "outputs": [
    {
     "data": {
      "text/plain": [
       "Text(0.5, 1.0, 'y-test vs y-predicted values')"
      ]
     },
     "execution_count": 101,
     "metadata": {},
     "output_type": "execute_result"
    },
    {
     "data": {
      "image/png": "[encoded data removed]",
      "text/plain": [
       "<Figure size 2500x1000 with 1 Axes>"
      ]
     },
     "metadata": {},
     "output_type": "display_data"
    }
   ],
   "source": [
    "plt.figure(figsize=(25,10))\n",
    "plt.scatter(y_test, y_pred)\n",
    "plt.xlabel('y-test Values')\n",
    "plt.ylabel('y-predicted Values')\n",
    "plt.title('y-test vs y-predicted values')"
   ]
  },
  {
   "cell_type": "code",
   "execution_count": 102,
   "metadata": {},
   "outputs": [
    {
     "data": {
      "image/png": "[encoded data removed]",
      "text/plain": [
       "<Figure size 600x400 with 1 Axes>"
      ]
     },
     "metadata": {},
     "output_type": "display_data"
    }
   ],
   "source": [
    "import seaborn as sns\n",
    "sns.set_theme(rc={'figure.figsize':(6,4)})\n",
    "ax = sns.distplot((y_test-y_pred))"
   ]
  },
  {
   "cell_type": "code",
   "execution_count": null,
   "metadata": {},
   "outputs": [],
   "source": []
  },
  {
   "cell_type": "code",
   "execution_count": null,
   "metadata": {},
   "outputs": [],
   "source": []
  },
  {
   "cell_type": "code",
   "execution_count": 103,
   "metadata": {},
   "outputs": [
    {
     "name": "stdout",
     "output_type": "stream",
     "text": [
      "Cross-validation scores: [0.84657313 0.83606213 0.83661126 0.81456392 0.83260101]\n",
      "Mean score: 0.8332822888223234\n",
      "Standard deviation: 0.010452725505574917\n"
     ]
    }
   ],
   "source": [
    "from sklearn.model_selection import ShuffleSplit, cross_val_score\n",
    "from sklearn.linear_model import LinearRegression\n",
    "\n",
    "cv = ShuffleSplit(n_splits=5, test_size=0.2, random_state=0)\n",
    "model = LinearRegression()\n",
    "\n",
    "scores = cross_val_score(model, X, y, cv=cv)\n",
    "\n",
    "print(\"Cross-validation scores:\", scores)\n",
    "print(\"Mean score:\", scores.mean())\n",
    "print(\"Standard deviation:\", scores.std())"
   ]
  },
  {
   "cell_type": "markdown",
   "metadata": {},
   "source": [
    "# GridSearchCV"
   ]
  },
  {
   "cell_type": "code",
   "execution_count": null,
   "metadata": {
    "deletable": false,
    "editable": false,
    "run_control": {
     "frozen": true
    }
   },
   "outputs": [],
   "source": [
    "from sklearn.model_selection import GridSearchCV\n",
    "from sklearn.linear_model import Lasso\n",
    "from sklearn.tree import DecisionTreeRegressor\n",
    "\n",
    "def find_best_model_using_gridsearchcv(X,y):\n",
    "    algos = {\n",
    "        'linear_regression' : {\n",
    "            'model': LinearRegression(),\n",
    "            'params': {\n",
    "                'copy_X' : [True, False],\n",
    "                'fit_intercept' : [True, False],\n",
    "                'n_jobs' : [1,2,3],\n",
    "                'positive' : [True, False]\n",
    "            }\n",
    "        },\n",
    "        'lasso': {\n",
    "            'model': Lasso(),\n",
    "            'params': {\n",
    "                'alpha': [1,2],\n",
    "                'selection': ['random', 'cyclic']\n",
    "            }\n",
    "        },\n",
    "        'decision_tree': {\n",
    "            'model': DecisionTreeRegressor(),\n",
    "            'params': {\n",
    "                'criterion' : ['squared_error','friedman_mse'],\n",
    "                'splitter': ['best','random']\n",
    "            }\n",
    "        }    \n",
    "    }\n",
    "    \n",
    "    scores = []\n",
    "    cv = ShuffleSplit(n_splits = 5, test_size = 0.2, random_state = 0)\n",
    "    for algo_name, config in algos.items():\n",
    "        gs =  GridSearchCV(config['model'], config['params'], cv = cv, return_train_score = False)\n",
    "        gs.fit(X,y)\n",
    "        scores.append({\n",
    "            'model': algo_name,\n",
    "            'best_score': gs.best_score_,\n",
    "            'best_params': gs.best_params_\n",
    "        })\n",
    "\n",
    "    return pd.DataFrame(scores,columns=['model','best_score','best_params'])\n",
    "\n",
    "ans = find_best_model_using_gridsearchcv(X_train,y_train)"
   ]
  },
  {
   "cell_type": "code",
   "execution_count": 72,
   "metadata": {
    "deletable": false,
    "editable": false,
    "run_control": {
     "frozen": true
    }
   },
   "outputs": [
    {
     "data": {
      "text/html": [
       "<div>\n",
       "<style scoped>\n",
       "    .dataframe tbody tr th:only-of-type {\n",
       "        vertical-align: middle;\n",
       "    }\n",
       "\n",
       "    .dataframe tbody tr th {\n",
       "        vertical-align: top;\n",
       "    }\n",
       "\n",
       "    .dataframe thead th {\n",
       "        text-align: right;\n",
       "    }\n",
       "</style>\n",
       "<table border=\"1\" class=\"dataframe\">\n",
       "  <thead>\n",
       "    <tr style=\"text-align: right;\">\n",
       "      <th></th>\n",
       "      <th>model</th>\n",
       "      <th>best_score</th>\n",
       "      <th>best_params</th>\n",
       "    </tr>\n",
       "  </thead>\n",
       "  <tbody>\n",
       "    <tr>\n",
       "      <th>0</th>\n",
       "      <td>linear_regression</td>\n",
       "      <td>0.826643</td>\n",
       "      <td>{'copy_X': True, 'fit_intercept': True, 'n_jobs': 1, 'positive': False}</td>\n",
       "    </tr>\n",
       "    <tr>\n",
       "      <th>1</th>\n",
       "      <td>lasso</td>\n",
       "      <td>0.697086</td>\n",
       "      <td>{'alpha': 1, 'selection': 'random'}</td>\n",
       "    </tr>\n",
       "    <tr>\n",
       "      <th>2</th>\n",
       "      <td>decision_tree</td>\n",
       "      <td>0.899581</td>\n",
       "      <td>{'criterion': 'squared_error', 'splitter': 'random'}</td>\n",
       "    </tr>\n",
       "  </tbody>\n",
       "</table>\n",
       "</div>"
      ],
      "text/plain": [
       "               model  best_score  \\\n",
       "0  linear_regression    0.826643   \n",
       "1              lasso    0.697086   \n",
       "2      decision_tree    0.899581   \n",
       "\n",
       "                                                               best_params  \n",
       "0  {'copy_X': True, 'fit_intercept': True, 'n_jobs': 1, 'positive': False}  \n",
       "1                                      {'alpha': 1, 'selection': 'random'}  \n",
       "2                     {'criterion': 'squared_error', 'splitter': 'random'}  "
      ]
     },
     "execution_count": 72,
     "metadata": {},
     "output_type": "execute_result"
    }
   ],
   "source": [
    "pd.set_option('display.max_colwidth', None)\n",
    "ans.head()"
   ]
  },
  {
   "cell_type": "code",
   "execution_count": null,
   "metadata": {
    "deletable": false,
    "editable": false,
    "run_control": {
     "frozen": true
    }
   },
   "outputs": [],
   "source": [
    "from sklearn.svm import SVR\n",
    "from sklearn.pipeline import make_pipeline\n",
    "from sklearn.preprocessing import StandardScaler\n",
    "\n",
    "clf = make_pipeline(StandardScaler(), SVR(gamma='auto'))\n",
    "clf.fit(X_train, y_train)"
   ]
  },
  {
   "cell_type": "code",
   "execution_count": null,
   "metadata": {
    "deletable": false,
    "editable": false,
    "run_control": {
     "frozen": true
    }
   },
   "outputs": [],
   "source": [
    "clf.score(X_train, y_train)"
   ]
  },
  {
   "cell_type": "code",
   "execution_count": null,
   "metadata": {
    "deletable": false,
    "editable": false,
    "run_control": {
     "frozen": true
    }
   },
   "outputs": [],
   "source": [
    "y_pred = clf.predict(X_test)"
   ]
  },
  {
   "cell_type": "code",
   "execution_count": null,
   "metadata": {
    "deletable": false,
    "editable": false,
    "run_control": {
     "frozen": true
    }
   },
   "outputs": [],
   "source": [
    "ans2 = pd.DataFrame({'Actual': np.round(y_test, 2), 'Predicted': np.round(y_pred, 2)})"
   ]
  },
  {
   "cell_type": "code",
   "execution_count": null,
   "metadata": {
    "deletable": false,
    "editable": false,
    "run_control": {
     "frozen": true
    }
   },
   "outputs": [],
   "source": [
    "ans2.head()"
   ]
  },
  {
   "cell_type": "markdown",
   "metadata": {},
   "source": [
    "# TheilSenRegressor"
   ]
  },
  {
   "cell_type": "code",
   "execution_count": null,
   "metadata": {},
   "outputs": [],
   "source": [
    "from sklearn.linear_model import TheilSenRegressor\n",
    "reg = TheilSenRegressor(random_state=0).fit(X_train, y_train)"
   ]
  },
  {
   "cell_type": "code",
   "execution_count": null,
   "metadata": {},
   "outputs": [],
   "source": [
    "reg.score(X_train, y_train)"
   ]
  },
  {
   "cell_type": "code",
   "execution_count": null,
   "metadata": {},
   "outputs": [],
   "source": [
    "y_pred = reg.predict(X_test)"
   ]
  },
  {
   "cell_type": "code",
   "execution_count": null,
   "metadata": {},
   "outputs": [],
   "source": [
    "print(y_pred)"
   ]
  },
  {
   "cell_type": "code",
   "execution_count": null,
   "metadata": {},
   "outputs": [],
   "source": [
    "ans3 = pd.DataFrame({'Actual': np.round(y_test, 2), 'Predicted': np.round(y_pred, 2)})"
   ]
  },
  {
   "cell_type": "code",
   "execution_count": null,
   "metadata": {},
   "outputs": [],
   "source": [
    "ans3.head()"
   ]
  },
  {
   "cell_type": "markdown",
   "metadata": {},
   "source": [
    "# Huber Regressor"
   ]
  },
  {
   "cell_type": "code",
   "execution_count": null,
   "metadata": {},
   "outputs": [],
   "source": [
    "from sklearn.linear_model import HuberRegressor\n",
    "huber = HuberRegressor(max_iter = 1000).fit(X_train, y_train)"
   ]
  },
  {
   "cell_type": "code",
   "execution_count": null,
   "metadata": {},
   "outputs": [],
   "source": [
    "huber.score(X_train, y_train)"
   ]
  },
  {
   "cell_type": "code",
   "execution_count": null,
   "metadata": {},
   "outputs": [],
   "source": [
    "y_pred = huber.predict(X_test)"
   ]
  },
  {
   "cell_type": "code",
   "execution_count": null,
   "metadata": {},
   "outputs": [],
   "source": [
    "print(y_pred)"
   ]
  },
  {
   "cell_type": "code",
   "execution_count": null,
   "metadata": {},
   "outputs": [],
   "source": [
    "ans4 = pd.DataFrame({'Actual': np.round(y_test, 2), 'Predicted': np.round(y_pred, 2)})"
   ]
  },
  {
   "cell_type": "code",
   "execution_count": null,
   "metadata": {},
   "outputs": [],
   "source": [
    "ans4.head()"
   ]
  },
  {
   "cell_type": "raw",
   "metadata": {},
   "source": [
    "Summary of scores in order:\n",
    "\n",
    "Decision Tree Regressor  0.936342\t\n",
    "\n",
    "Linear Regressor         0.876363\t\n",
    "\n",
    "Huber Regressor          0.7161777470400619\n",
    "\n",
    "Lasso Regressor          0.703492\n",
    "\n",
    "TheilSen Regressor       0.6923528750914283\n",
    "\n",
    "SVM Regressor            0.2745236002576621\n",
    "\n",
    "\n",
    "Conclusion: Use Decision Tree Regressor"
   ]
  },
  {
   "cell_type": "markdown",
   "metadata": {},
   "source": [
    "# Setting a predict_price function"
   ]
  },
  {
   "cell_type": "raw",
   "metadata": {},
   "source": [
    "Using linear regression"
   ]
  },
  {
   "cell_type": "code",
   "execution_count": null,
   "metadata": {},
   "outputs": [],
   "source": [
    "location='Agripada'\n",
    "np.where(X.columns==location)[0][0]"
   ]
  },
  {
   "cell_type": "code",
   "execution_count": 105,
   "metadata": {},
   "outputs": [],
   "source": [
    "def predict_price(location,sqft,bhk):\n",
    "    loc_index = np.where(X.columns==location)[0][0]\n",
    "    \n",
    "    x = np.zeros(len(X.columns))\n",
    "    x[0] = bhk\n",
    "    x[1] = sqft\n",
    "    if loc_index >= 0:\n",
    "        x[loc_index] = 1\n",
    "        \n",
    "    return np.exp(lr_clf.predict([x])[0])"
   ]
  },
  {
   "cell_type": "code",
   "execution_count": 113,
   "metadata": {},
   "outputs": [
    {
     "data": {
      "text/plain": [
       "280.3190133011406"
      ]
     },
     "execution_count": 113,
     "metadata": {},
     "output_type": "execute_result"
    }
   ],
   "source": [
    "predict_price('Agripada',900, 2)"
   ]
  },
  {
   "cell_type": "code",
   "execution_count": 116,
   "metadata": {},
   "outputs": [
    {
     "data": {
      "text/plain": [
       "159.57694048291918"
      ]
     },
     "execution_count": 116,
     "metadata": {},
     "output_type": "execute_result"
    }
   ],
   "source": [
    "predict_price('Agripada',500, 1)"
   ]
  },
  {
   "cell_type": "code",
   "execution_count": 114,
   "metadata": {},
   "outputs": [
    {
     "data": {
      "text/plain": [
       "137.26765332655953"
      ]
     },
     "execution_count": 114,
     "metadata": {},
     "output_type": "execute_result"
    }
   ],
   "source": [
    "predict_price('Andheri West',900, 2)"
   ]
  },
  {
   "cell_type": "code",
   "execution_count": 145,
   "metadata": {},
   "outputs": [
    {
     "data": {
      "text/plain": [
       "113.00000000000003"
      ]
     },
     "execution_count": 145,
     "metadata": {},
     "output_type": "execute_result"
    }
   ],
   "source": [
    "predict_price('Kandivali East',900, 1)"
   ]
  },
  {
   "cell_type": "code",
   "execution_count": 146,
   "metadata": {},
   "outputs": [
    {
     "data": {
      "text/plain": [
       "232.14935676258634"
      ]
     },
     "execution_count": 146,
     "metadata": {},
     "output_type": "execute_result"
    }
   ],
   "source": [
    "predict_price('Kandivali East',1200, 2)"
   ]
  },
  {
   "cell_type": "code",
   "execution_count": 119,
   "metadata": {},
   "outputs": [
    {
     "data": {
      "text/plain": [
       "295.1773955994232"
      ]
     },
     "execution_count": 119,
     "metadata": {},
     "output_type": "execute_result"
    }
   ],
   "source": [
    "predict_price('Andheri West',1800, 3)"
   ]
  },
  {
   "cell_type": "code",
   "execution_count": 120,
   "metadata": {},
   "outputs": [
    {
     "data": {
      "text/plain": [
       "303.1152714321059"
      ]
     },
     "execution_count": 120,
     "metadata": {},
     "output_type": "execute_result"
    }
   ],
   "source": [
    "predict_price('Airoli',1233, 4)"
   ]
  },
  {
   "cell_type": "raw",
   "metadata": {},
   "source": [
    "Predict price function using decision tree regressor"
   ]
  },
  {
   "cell_type": "raw",
   "metadata": {},
   "source": [
    "'decision_tree': best_params = {'criterion': 'squared_error', 'splitter': 'random'}"
   ]
  },
  {
   "cell_type": "code",
   "execution_count": 125,
   "metadata": {},
   "outputs": [
    {
     "data": {
      "text/plain": [
       "0.9498160046427129"
      ]
     },
     "execution_count": 125,
     "metadata": {},
     "output_type": "execute_result"
    }
   ],
   "source": [
    "dtr_clf = DecisionTreeRegressor(criterion = 'squared_error', splitter = 'random')\n",
    "dtr_clf.fit(X_train,y_train)\n",
    "dtr_clf.score(X_test,y_test)"
   ]
  },
  {
   "cell_type": "code",
   "execution_count": 126,
   "metadata": {},
   "outputs": [
    {
     "name": "stdout",
     "output_type": "stream",
     "text": [
      "Cross-validation scores: [0.90973421 0.94073396 0.92866369 0.86491147 0.91700172]\n",
      "Mean score: 0.9122090102976032\n",
      "Standard deviation: 0.02588660530570872\n"
     ]
    }
   ],
   "source": [
    "from sklearn.model_selection import ShuffleSplit, cross_val_score\n",
    "\n",
    "cv = ShuffleSplit(n_splits = 5, test_size = 0.2, random_state = 0)\n",
    "model = DecisionTreeRegressor(criterion = 'squared_error', splitter = 'random')\n",
    "\n",
    "scores = cross_val_score(model, X, y, cv = cv)\n",
    "\n",
    "print(\"Cross-validation scores:\", scores)\n",
    "print(\"Mean score:\", scores.mean())\n",
    "print(\"Standard deviation:\", scores.std())"
   ]
  },
  {
   "cell_type": "code",
   "execution_count": 132,
   "metadata": {},
   "outputs": [],
   "source": [
    "def predict_price(location,sqft,bhk):\n",
    "    loc_index = np.where(X.columns==location)[0][0]\n",
    "    \n",
    "    x = np.zeros(len(X.columns))\n",
    "    x[0] = bhk\n",
    "    x[1] = sqft\n",
    "    if loc_index >= 0:\n",
    "        x[loc_index] = 1\n",
    "        \n",
    "    return np.exp(dtr_clf.predict([x])[0])"
   ]
  },
  {
   "cell_type": "code",
   "execution_count": 133,
   "metadata": {},
   "outputs": [
    {
     "data": {
      "text/plain": [
       "138.99999999999997"
      ]
     },
     "execution_count": 133,
     "metadata": {},
     "output_type": "execute_result"
    }
   ],
   "source": [
    "predict_price('Agripada',600, 2)"
   ]
  },
  {
   "cell_type": "code",
   "execution_count": 134,
   "metadata": {},
   "outputs": [
    {
     "data": {
      "text/plain": [
       "136.53758420876358"
      ]
     },
     "execution_count": 134,
     "metadata": {},
     "output_type": "execute_result"
    }
   ],
   "source": [
    "predict_price('Andheri West',600, 2)"
   ]
  },
  {
   "cell_type": "code",
   "execution_count": 137,
   "metadata": {},
   "outputs": [
    {
     "data": {
      "text/plain": [
       "138.99999999999997"
      ]
     },
     "execution_count": 137,
     "metadata": {},
     "output_type": "execute_result"
    }
   ],
   "source": [
    "predict_price('Borivali West',600, 2)"
   ]
  },
  {
   "cell_type": "code",
   "execution_count": 138,
   "metadata": {},
   "outputs": [
    {
     "data": {
      "text/plain": [
       "45.03000000000001"
      ]
     },
     "execution_count": 138,
     "metadata": {},
     "output_type": "execute_result"
    }
   ],
   "source": [
    "predict_price('Virar',600, 2)"
   ]
  },
  {
   "cell_type": "code",
   "execution_count": 140,
   "metadata": {},
   "outputs": [
    {
     "data": {
      "text/plain": [
       "138.99999999999997"
      ]
     },
     "execution_count": 140,
     "metadata": {},
     "output_type": "execute_result"
    }
   ],
   "source": [
    "predict_price('Vashi',600, 2)"
   ]
  },
  {
   "cell_type": "code",
   "execution_count": 144,
   "metadata": {},
   "outputs": [
    {
     "data": {
      "text/plain": [
       "900.0000000000001"
      ]
     },
     "execution_count": 144,
     "metadata": {},
     "output_type": "execute_result"
    }
   ],
   "source": [
    "predict_price('Worli',1700, 4)"
   ]
  },
  {
   "cell_type": "code",
   "execution_count": 135,
   "metadata": {},
   "outputs": [
    {
     "data": {
      "text/plain": [
       "295.95719555825514"
      ]
     },
     "execution_count": 135,
     "metadata": {},
     "output_type": "execute_result"
    }
   ],
   "source": [
    "predict_price('Andheri West',800, 3)"
   ]
  },
  {
   "cell_type": "code",
   "execution_count": 136,
   "metadata": {},
   "outputs": [
    {
     "data": {
      "text/plain": [
       "254.99999999999991"
      ]
     },
     "execution_count": 136,
     "metadata": {},
     "output_type": "execute_result"
    }
   ],
   "source": [
    "predict_price('Airoli',1233, 4)"
   ]
  },
  {
   "cell_type": "raw",
   "metadata": {},
   "source": [
    "# Exporting pickle files"
   ]
  },
  {
   "cell_type": "raw",
   "metadata": {},
   "source": [
    "import pickle\n",
    "with open('Mumbai_house_prices_model.pickle','wb') as f:\n",
    "    pickle.dump(lr_clf,f)"
   ]
  },
  {
   "cell_type": "raw",
   "metadata": {},
   "source": [
    "import json\n",
    "columns = {\n",
    "    'data_columns' : [col.lower() for col in X.columns]\n",
    "}\n",
    "with open(\"columns.json\",\"w\") as f:\n",
    "    f.write(json.dumps(columns))"
   ]
  },
  {
   "cell_type": "code",
   "execution_count": null,
   "metadata": {},
   "outputs": [],
   "source": []
  }
 ],
 "metadata": {
  "kernelspec": {
   "display_name": "Python 3 (ipykernel)",
   "language": "python",
   "name": "python3"
  },
  "language_info": {
   "codemirror_mode": {
    "name": "ipython",
    "version": 3
   },
   "file_extension": ".py",
   "mimetype": "text/x-python",
   "name": "python",
   "nbconvert_exporter": "python",
   "pygments_lexer": "ipython3",
   "version": "3.9.13"
  }
 },
 "nbformat": 4,
 "nbformat_minor": 4
}
